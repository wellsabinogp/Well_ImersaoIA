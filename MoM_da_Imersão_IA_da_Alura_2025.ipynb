{
  "nbformat": 4,
  "nbformat_minor": 0,
  "metadata": {
    "colab": {
      "provenance": []
    },
    "kernelspec": {
      "name": "python3",
      "display_name": "Python 3"
    },
    "language_info": {
      "name": "python"
    }
  },
  "cells": [
    {
      "cell_type": "markdown",
      "source": [
        "MEU TCC DA IMERSÃO IA DA ALURA"
      ],
      "metadata": {
        "id": "hxn_j6Z2GJVL"
      }
    },
    {
      "cell_type": "code",
      "source": [
        "%pip -q install google-genai"
      ],
      "metadata": {
        "id": "UCCbECexLk_h"
      },
      "execution_count": null,
      "outputs": []
    },
    {
      "cell_type": "code",
      "source": [
        "# Configura a API Key do Google Gemini\n",
        "\n",
        "import os\n",
        "from google.colab import userdata\n",
        "\n",
        "os.environ[\"GOOGLE_API_KEY\"] = userdata.get('GOOGLE_API_KEY')"
      ],
      "metadata": {
        "id": "NfCqHo1tLk8P"
      },
      "execution_count": null,
      "outputs": []
    },
    {
      "cell_type": "code",
      "source": [
        "# Configura o cliente da SDK do Gemini\n",
        "\n",
        "from google import genai\n",
        "\n",
        "client = genai.Client()\n",
        "\n",
        "MODEL_ID = \"gemini-2.0-flash\""
      ],
      "metadata": {
        "id": "bV4w0H5TLk5g"
      },
      "execution_count": null,
      "outputs": []
    },
    {
      "cell_type": "code",
      "source": [
        "# Instalar Framework ADK de agentes do Google ################################################\n",
        "!pip install -q google-adk"
      ],
      "metadata": {
        "id": "hvZ3UnPI4jhJ"
      },
      "execution_count": null,
      "outputs": []
    },
    {
      "cell_type": "code",
      "execution_count": null,
      "metadata": {
        "id": "aePV2bdfDeoW"
      },
      "outputs": [],
      "source": [
        "from google.adk.agents import Agent\n",
        "from google.adk.runners import Runner\n",
        "from google.adk.sessions import InMemorySessionService\n",
        "from google.adk.tools import google_search\n",
        "from google.genai import types  # Para criar conteúdos (Content e Part)\n",
        "from datetime import date\n",
        "import textwrap # Para formatar melhor a saída de texto\n",
        "from IPython.display import display, Markdown # Para exibir texto formatado no Colab\n",
        "import requests # Para fazer requisições HTTP\n",
        "import warnings\n",
        "\n",
        "warnings.filterwarnings(\"ignore\")"
      ]
    },
    {
      "cell_type": "markdown",
      "source": [
        "#ATENÇÃO!!!\n",
        "\n",
        "O CÓDIGO ABAIXO SÓ FUNCIONARÁ PARA MIM POIS SOMENTE EU TENHO ACESSO AO MEU DRIVE PESSOAL ONDE ESTÃO OS PDFS QUE EU GEREI A PARTIR DO PERPEXITY RESUMINDO OS VIDEOS DO YOUTUBE DAS AULAS, POIS PELO GEMINI NÃO FUNCIONOU. DAÍ FIZ UM A UM O RESUMO DAS AULAS DE VIDEO, SALVEI NO MEU DRIVE E IMPLEMENTEI PELA PRIMEIRA VEZ O ACESSO AO DRIVE, QUE NÃO FOI DADO NO CURSO, COM O AUXILIO DO GEMINI PEDINDO PARA ELE GERAR CODIGO PYTHON POR MIM\n",
        "\n",
        "MAS SE VC É CURIOSÃO E QUER VER O CÓDIGO FUNCIONANDO, ALTERE A CÉLULA ABAIXO PARA UMA PASTA EXISTENTE NO TEU GOOGLE DRIVE E COLOQUE 1 OU MAIS PDFS DE QQ ASSUNTO LÁ SÓ PARA VER QUE FUNCIONA\n",
        "# Defina o caminho para a pasta dos PDFs\n",
        "pasta_pdfs = '/content/drive/MyDrive/Imersão IA da Alura'"
      ],
      "metadata": {
        "id": "sgic2Dq9EOqt"
      }
    },
    {
      "cell_type": "code",
      "source": [
        "# Pergunta ao Gemini uma informação utilizando a busca do Google como contexto\n",
        "from google.colab import drive\n",
        "drive.mount('/content/drive')\n",
        "import os\n",
        "\n",
        "# Define o caminho para a pasta no seu Google Drive\n",
        "caminho_pasta = '/content/drive/MyDrive/Imersão IA da Alura'\n",
        "\n",
        "# Verifica se a pasta existe\n",
        "if os.path.isdir(caminho_pasta):\n",
        "    print(f\"A pasta '{caminho_pasta}' foi encontrada no seu Google Drive.\")\n",
        "\n",
        "    # Opcional: Listar os arquivos dentro da pasta\n",
        "    arquivos_na_pasta = os.listdir(caminho_pasta)\n",
        "    print(\"Arquivos dentro da pasta:\")\n",
        "    for arquivo in arquivos_na_pasta:\n",
        "        print(f\"- {arquivo}\")\n",
        "else:\n",
        "    print(f\"A pasta '{caminho_pasta}' não foi encontrada no seu Google Drive. Verifique se o nome está correto e se a pasta existe.\")\n"
      ],
      "metadata": {
        "colab": {
          "base_uri": "https://localhost:8080/"
        },
        "id": "2iXTNVeg5GZI",
        "outputId": "24bf5645-ebc4-4890-8164-4d0253e401f7"
      },
      "execution_count": null,
      "outputs": [
        {
          "output_type": "stream",
          "name": "stdout",
          "text": [
            "Drive already mounted at /content/drive; to attempt to forcibly remount, call drive.mount(\"/content/drive\", force_remount=True).\n",
            "A pasta '/content/drive/MyDrive/Imersão IA da Alura' foi encontrada no seu Google Drive.\n",
            "Arquivos dentro da pasta:\n",
            "- Resumo Aula 0 - MasterClass - Como a IA aprendeu a falar.pdf\n",
            "- Resumo Aula 1 - O que uma IA de última geração pode fazer por vc.pdf\n",
            "- Resumo Aula 2 - Como conversar com a IA e fazer ela trabalhar por vc.pdf\n",
            "- Resumo Aula 3 – IA no seu dia a dia do Google Calendar ao Drive com Gemini.pdf\n",
            "- Resumo Aula 4 – Criando seu primeiro chatbot com IA generativa.pdf\n",
            "- Resumo Aula 5 – Construindo agentes que resolvem tarefas por você.pdf\n"
          ]
        }
      ]
    },
    {
      "cell_type": "code",
      "source": [
        "!pip install PyPDF2 nltk"
      ],
      "metadata": {
        "colab": {
          "base_uri": "https://localhost:8080/"
        },
        "id": "Sr0rq9tn8QTr",
        "outputId": "8e60cd67-a7f3-4c48-d455-f1b423f8511f"
      },
      "execution_count": null,
      "outputs": [
        {
          "output_type": "stream",
          "name": "stdout",
          "text": [
            "Requirement already satisfied: PyPDF2 in /usr/local/lib/python3.11/dist-packages (3.0.1)\n",
            "Requirement already satisfied: nltk in /usr/local/lib/python3.11/dist-packages (3.9.1)\n",
            "Requirement already satisfied: click in /usr/local/lib/python3.11/dist-packages (from nltk) (8.2.0)\n",
            "Requirement already satisfied: joblib in /usr/local/lib/python3.11/dist-packages (from nltk) (1.5.0)\n",
            "Requirement already satisfied: regex>=2021.8.3 in /usr/local/lib/python3.11/dist-packages (from nltk) (2024.11.6)\n",
            "Requirement already satisfied: tqdm in /usr/local/lib/python3.11/dist-packages (from nltk) (4.67.1)\n"
          ]
        }
      ]
    },
    {
      "source": [
        "import os\n",
        "import PyPDF2\n",
        "import nltk\n",
        "from nltk.corpus import stopwords\n",
        "from nltk.tokenize import sent_tokenize, word_tokenize\n",
        "\n",
        "# Certifique-se de baixar os recursos necessários do NLTK (execute apenas uma vez)\n",
        "try:\n",
        "    stopwords.words('portuguese')\n",
        "except LookupError:\n",
        "    nltk.download('stopwords')\n",
        "try:\n",
        "    sent_tokenize('Exemplo.')\n",
        "except LookupError:\n",
        "    nltk.download('punkt')\n",
        "\n",
        "# Download the punkt_tab resource for Portuguese\n",
        "try:\n",
        "    # Attempt to load the punkt_tab resource for Portuguese\n",
        "    nltk.data.find('tokenizers/punkt_tab/portuguese/')\n",
        "except LookupError:\n",
        "    # If not found, download it\n",
        "    nltk.download('punkt_tab')\n",
        "\n",
        "\n",
        "def extrair_texto_pdf(caminho_arquivo):\n",
        "    \"\"\"Extrai o texto de um arquivo PDF.\"\"\"\n",
        "    texto = \"\"\n",
        "    try:\n",
        "        with open(caminho_arquivo, 'rb') as arquivo_pdf:\n",
        "            leitor_pdf = PyPDF2.PdfReader(arquivo_pdf)\n",
        "            for pagina_num in range(len(leitor_pdf.pages)):\n",
        "                pagina = leitor_pdf.pages[pagina_num]\n",
        "                texto += pagina.extract_text()\n",
        "    except Exception as e:\n",
        "        print(f\"Erro ao processar o arquivo '{os.path.basename(caminho_arquivo)}': {e}\")\n",
        "    return texto\n",
        "\n",
        "def resumir_texto(texto, num_sentencas=3):\n",
        "    \"\"\"Gera um resumo de um texto.\"\"\"\n",
        "    if not texto:\n",
        "        return \"\"\n",
        "\n",
        "    sentencas = sent_tokenize(texto, language='portuguese')\n",
        "    palavras = word_tokenize(texto.lower(), language='portuguese')\n",
        "    stop_words = set(stopwords.words('portuguese'))\n",
        "    palavras_filtradas = [palavra for palavra in palavras if palavra.isalnum() and palavra not in stop_words]\n",
        "\n",
        "    frequencia_palavras = nltk.FreqDist(palavras_filtradas)\n",
        "    sentencas_pontuadas = {}\n",
        "\n",
        "    for i, sentenca in enumerate(sentencas):\n",
        "        for palavra in word_tokenize(sentenca.lower(), language='portuguese'):\n",
        "            if palavra in frequencia_palavras:\n",
        "                if i not in sentencas_pontuadas:\n",
        "                    sentencas_pontuadas[i] = 0\n",
        "                sentencas_pontuadas[i] += frequencia_palavras[palavra]\n",
        "\n",
        "    sentencas_ordenadas = sorted(sentencas_pontuadas, key=sentencas_pontuadas.get, reverse=True)\n",
        "    top_sentencas = sorted(sentencas_ordenadas[:num_sentencas])\n",
        "\n",
        "    return ' '.join([sentencas[i] for i in top_sentencas])\n",
        "\n",
        "# Define o caminho para a pasta dos PDFs\n",
        "pasta_pdfs = '/content/drive/MyDrive/Imersão IA da Alura'\n",
        "\n",
        "# Lista todos os arquivos na pasta\n",
        "arquivos_na_pasta = os.listdir(pasta_pdfs)\n",
        "\n",
        "# Filtra apenas os arquivos com extensão .pdf\n",
        "arquivos_pdf = [arquivo for arquivo in arquivos_na_pasta if arquivo.lower().endswith('.pdf')]\n",
        "\n",
        "# Processa cada arquivo PDF encontrado\n",
        "if arquivos_pdf:\n",
        "    print(f\"Encontrei {len(arquivos_pdf)} arquivos PDF na pasta '{pasta_pdfs}':\")\n",
        "    for arquivo_pdf in arquivos_pdf:\n",
        "        caminho_completo = os.path.join(pasta_pdfs, arquivo_pdf)\n",
        "        print(f\"\\nArquivo: {arquivo_pdf}\")\n",
        "        texto = extrair_texto_pdf(caminho_completo)\n",
        "        if texto:\n",
        "            #Comentei a função resumo pois quero usar o Gen AI para fazer isso de maneira estruturada\n",
        "            #resumo = resumir_texto(texto, num_sentencas=3) # Você pode ajustar o número de sentenças no resumo\n",
        "            print(\"Segue o que foi discutido na aula:\")\n",
        "            # Em vez de --> print(resumo)\n",
        "            # Exibe a resposta \"bunitinha\" na tela\n",
        "            display(Markdown(f\"Resposta:\\n {texto}\"))\n",
        "        else:\n",
        "            print(\"Não foi possível extrair texto deste arquivo.\")\n",
        "else:\n",
        "    print(f\"Nenhum arquivo PDF encontrado na pasta '{pasta_pdfs}'.\")"
      ],
      "cell_type": "code",
      "metadata": {
        "colab": {
          "base_uri": "https://localhost:8080/",
          "height": 1000
        },
        "id": "y4Qqbehx9UY0",
        "outputId": "eba4a28a-4854-4abe-c30e-68a8349564d1"
      },
      "execution_count": null,
      "outputs": [
        {
          "output_type": "stream",
          "name": "stdout",
          "text": [
            "Encontrei 6 arquivos PDF na pasta '/content/drive/MyDrive/Imersão IA da Alura':\n",
            "\n",
            "Arquivo: Resumo Aula 0 - MasterClass - Como a IA aprendeu a falar.pdf\n",
            "Segue o que foi discutido na aula:\n"
          ]
        },
        {
          "output_type": "display_data",
          "data": {
            "text/plain": [
              "<IPython.core.display.Markdown object>"
            ],
            "text/markdown": "Resposta:\n Aula 0 = https://youtu.be/_xV9Pcvkq_Y\nAula 1 = https://www.youtube.com/watch?v=PzTBbxEGmYo\nAula 2 = https://youtu.be/BOfY\u00006FKbqE\nAula 3 = https://www.youtube.com/watch?v=PldyIefUPOg&t=1s\nAula 4 = https://www.youtube.com/watch?v=7xco9igjUAQ&t=1s\nAula 5 = https://www.youtube.com/watch?v=_CzMiNTDLMI\nAqui está um resumo detalhado da Aula 0 da Imersão IA da Alura, baseado no conteúdo do\nvídeo oficial:\nOlá, seguem os links dos videos da imersão IA da\nAlura:\nAula 0 \u0000 Introdução e História da Inteligência Artificial\nObjetivo da aula: Preparar os alunos para a imersão, apresentando a história da inteligência\nartificial \u0000IA) desde a origem do termo até os avanços recentes, além de introduzir uma\nferramenta de estudo inovadora.\nFerramenta NotebookLM do Google:\nUma ferramenta que permite importar e organizar conteúdos de diversas fontes \u0000PDFs,\nsites, vídeos, documentos) para estudo assistido por IA.\nPode gerar mapas mentais, resumos, notas e responder perguntas baseadas no\nmaterial importado, facilitando o aprendizado.\nHistória da IA\u0000\nPrimórdios (pré-1950\u0000\u0000\nA ideia de máquinas pensantes tem raízes antigas, mas o marco inicial real é a\ninvenção do computador digital na década de 1940.\nEm 1943, McCulloch e Pitts criaram o modelo matemático do neurônio artificial,\ninspirado no funcionamento do cérebro humano, usando lógica binária.\nAlan Turing, considerado o pai da computação, publicou em 1950 o artigo\n\"Computing Machinery and Intelligence\", propondo o Teste de Turing para avaliar\nse uma máquina pode exibir comportamento inteligente indistinguível do humano.\nDécada de 1950\u0000Este resumo da Aula 0 traz uma visão geral da evolução da IA, preparando os alunos para\nentender os conceitos e tecnologias atuais.\nSe desejar, posso preparar resumos similares para as outras aulas \u00001 a 5) com base nos\nconteúdos disponíveis.\n⁂Em 1956, na conferência de Dartmouth, John McCarthy cunhou o termo\n\"inteligência artificial\".\nOs primeiros programas de xadrez e os primeiros sistemas baseados em redes\nneurais foram desenvolvidos.\nDécadas de 1960 e 1970\u0000\nHouve grande entusiasmo com sistemas especialistas e chatbots primitivos, como o\nELIZA, que simulava conversas simples.\nPorém, as limitações técnicas e o poder computacional insuficiente levaram a\ndificuldades para resolver problemas complexos.\nInvernos da IA\u0000\nNos anos 70 e final dos anos 80, ocorreram períodos chamados \"invernos da IA\",\nquando o interesse e o financiamento diminuíram devido a expectativas não\ncumpridas e limitações técnicas.\nRenascimento no século 21\u0000\nA partir dos anos 2000, a IA renasceu com o avanço do deep learning\n(aprendizado profundo).\nTrês pesquisadores são destacados como \"pais do deep learning\": Yoshua Bengio,\nYann LeCun e Geoffrey Hinton, ganhadores do prêmio Turing.\nFatores que impulsionaram esse renascimento: maior poder computacional \u0000Lei de\nMoore), disponibilidade de big data, avanços em redes neurais convolucionais\n(para imagens) e recorrentes (para sequências).\nAplicações práticas surgiram, como assistentes virtuais \u0000Siri, Alexa, Google\nAssistant), sistemas de recomendação, chatbots e detecção de fraudes."
          },
          "metadata": {}
        },
        {
          "output_type": "stream",
          "name": "stdout",
          "text": [
            "\n",
            "Arquivo: Resumo Aula 1 - O que uma IA de última geração pode fazer por vc.pdf\n",
            "Segue o que foi discutido na aula:\n"
          ]
        },
        {
          "output_type": "display_data",
          "data": {
            "text/plain": [
              "<IPython.core.display.Markdown object>"
            ],
            "text/markdown": "Resposta:\n Aqui está um resumo detalhado da Aula 1 da Imersão IA da Alura, baseado no conteúdo oficial e\nfontes relacionadas:\nPoderia fazer resumo detalhado da Aula 1 da\nImersão IA da Alura, baseado no conteúdo do\nvídeo oficial que passei?\nAula 1 \u0000 O que uma IA de última geração pode fazer por você?\nApresentação do Google Gemini\nO Google Gemini é um modelo de linguagem de última geração \u0000LLM) que combina\ncapacidades multimodais, ou seja, pode processar e gerar texto, imagens e outros tipos de\ndados simultaneamente.\nEle é capaz de compreender e gerar textos com qualidade semelhante à humana, traduzir\nidiomas, criar conteúdos criativos, analisar sentimentos, gerar códigos e muito mais.\nO Gemini é acessível para usuários iniciantes por meio da plataforma gemini.google.com,\nque oferece uma interface de chat simples e gratuita para exploração. Para\ndesenvolvedores e cientistas de dados, o AI Studio (aistudio.google.com) permite\ncustomização, codificação e integração avançada com APIs.\nPotencial e Aplicações Práticas\nA aula destaca como o Gemini pode ser usado para transformar o dia a dia profissional,\nautomatizando tarefas repetitivas, acelerando processos criativos e facilitando a tomada de\ndecisões.\nExemplos de uso incluem criação de chatbots, geração de textos para marketing, análise de\ndados financeiros, suporte jurídico, entre outros.\nO foco é mostrar que a IA não substitui o profissional, mas aumenta sua autonomia e\nprodutividade, funcionando como uma poderosa ferramenta de apoio.\nEngenharia de Prompts\nUm ponto central da aula é a importância da formulação correta dos prompts (instruções\ndadas à IA) para obter respostas eficazes.\nSão apresentadas técnicas como:\nZero-shot: pedir à IA para realizar uma tarefa sem exemplos prévios.\nFew-shot: fornecer alguns exemplos para guiar a resposta.Este resumo cobre os principais pontos da Aula 1, que apresenta o Google Gemini, suas\ncapacidades, técnicas para interagir com IA e o caminho para aplicar esses conhecimentos na\nprática profissional.\n⁂Chain of Thought: incentivar a IA a pensar passo a passo para resolver problemas\ncomplexos.\nA engenharia de prompts é essencial para maximizar o potencial do Gemini e criar\ninterações mais precisas e úteis.\nDesenvolvimento Prático\nOs participantes são introduzidos à criação de chatbots usando a API do Gemini no Google\nAI Studio, aprendendo a construir sistemas que interagem com usuários de forma\nautônoma.\nAlém disso, a aula prepara para o desenvolvimento de sistemas multi-agentes, onde\nmúltiplos agentes de IA trabalham juntos para executar tarefas complexas sem intervenção\nconstante.\nBenefícios da Imersão\nA imersão é gratuita, online e sem pré-requisitos, com aulas ministradas por especialistas da\nAlura e do Google, incluindo Valquíria Alencar, Fabrício Carraro e Luciano Martins.\nAo final, os participantes recebem certificado Alura + Google e podem concorrer a prêmios\ncom seus projetos.\nA comunidade exclusiva e as mentorias ajudam a aprofundar o aprendizado e a aplicação\nprática.\n\u00001\u0000\u00002\u0000\n\u0000\u0000\u0000https://www.alura.com.br/artigos/imersao-ia\n\u0000\u0000\u0000https://pt.linkedin.com/pulse/imersão-alura-ai-com-google-gemini-marco-antonio-de-oliveira-filho--tic\npf"
          },
          "metadata": {}
        },
        {
          "output_type": "stream",
          "name": "stdout",
          "text": [
            "\n",
            "Arquivo: Resumo Aula 2 - Como conversar com a IA e fazer ela trabalhar por vc.pdf\n",
            "Segue o que foi discutido na aula:\n"
          ]
        },
        {
          "output_type": "display_data",
          "data": {
            "text/plain": [
              "<IPython.core.display.Markdown object>"
            ],
            "text/markdown": "Resposta:\n Claro! Aqui está um resumo detalhado da Aula 2 da Imersão IA da Alura, baseada no vídeo\noficial (link para o vídeo):\nA aula 2 aprofunda o conceito de engenharia de prompt, mostrando como conversar de forma\nmais eficiente com modelos de IA (como o Google Gemini) para obter resultados melhores, mais\nprecisos e úteis para o seu trabalho e projetos.\nna verdade a aula 2 da imersão foi outra: https://w\nww.youtube.com/watch?v=BOfY\u00006FKbqE&t=1s\nAula 2 \u0000 Como conversar com a IA e fazer ela trabalhar pra você\n1. Foco da Aula\n2. O que é Engenharia de Prompt?\nPrompt é a mensagem ou instrução que você envia para a IA.\nEngenharia de prompt é o processo de projetar essas instruções de forma clara, específica\ne detalhada, para que a IA entenda exatamente o que você deseja.\nA comparação feita é com um estagiário muito inteligente, mas sem experiência: quanto\nmais contexto e detalhes você der, melhor será a resposta.\n3. Exemplos Práticos\na) Solicitações Genéricas vs. Específicas\nExemplo 1\u0000 Pedir “me fale sobre São Paulo” gera uma resposta muito ampla.\nExemplo 2\u0000 Pedir “me fale sobre os três maiores clubes de futebol de São Paulo” já é mais\nespecífico e direciona melhor a resposta.\nQuanto mais detalhes no prompt, mais relevante será a resposta.\nb) Geração de Código\nPedir simplesmente “crie um código para verificar se um ano é bissexto” pode resultar em\numa resposta em Python, sem comentários.\nSe você especificar “crie um código em TypeScript, com comentários em cada linha”, a IA\nentrega exatamente o que você pediu, na linguagem e formato desejados.A Aula 2 ensina que a chave para tirar o máximo proveito da inteligência artificial está em como\nvocê conversa com ela. Aprender a construir prompts claros, detalhados e bem estruturados é\no que transforma a IA em uma ferramenta poderosa para qualquer área profissional.\nSe quiser, posso sugerir exercícios práticos ou dicas para aplicar a engenharia de prompt no seu\ntrabalho ou estudos!\n⁂c) Campanha de Marketing\nPedir “crie uma campanha de viagem para a Turquia” resulta em uma resposta genérica.\nAo detalhar: “Trabalho para uma agência de viagens chamada Carrarurquia, crio\ncampanhas para brasileiros entre 30 e 60 anos, interessados em história e cultura, focando\nem Istambul, Izmir e Capadócia”, a IA gera uma campanha muito mais alinhada ao público e\nobjetivo.\n4. Técnicas de Engenharia de Prompt\nSeja específico: Quanto mais detalhes você fornecer, melhor.\nDivida tarefas complexas: Se a tarefa for grande, divida em subtarefas e peça para a IA\nresolver uma de cada vez.\nDê contexto: Explique quem você é, qual seu objetivo, para quem é a resposta.\nTeste e ajuste: Não tenha medo de experimentar diferentes formas de pedir até chegar ao\nresultado ideal.\n5. Por que isso é importante?\nModelos de IA são probabilísticos e podem interpretar prompts de formas diferentes.\nA clareza e especificidade do prompt aumentam a chance de obter respostas relevantes e\naplicáveis ao seu contexto profissional.\nEssas técnicas ajudam a IA a se tornar uma verdadeira parceira de produtividade e\ncriatividade.\n6. Exercício Prático\nOs instrutores sugerem que você pratique criando prompts cada vez mais detalhados para\ntarefas do seu dia a dia, testando os resultados no Gemini.\nExperimente pedir para a IA gerar textos, códigos, campanhas, ou até mesmo dividir tarefas\ngrandes em etapas menores.\nResumo Final"
          },
          "metadata": {}
        },
        {
          "output_type": "stream",
          "name": "stdout",
          "text": [
            "\n",
            "Arquivo: Resumo Aula 3 – IA no seu dia a dia do Google Calendar ao Drive com Gemini.pdf\n",
            "Segue o que foi discutido na aula:\n"
          ]
        },
        {
          "output_type": "display_data",
          "data": {
            "text/plain": [
              "<IPython.core.display.Markdown object>"
            ],
            "text/markdown": "Resposta:\n Aqui está um resumo detalhado da Aula 3 da Imersão IA da Alura, baseada no vídeo oficial:\nPoderia fazer resumo detalhado da Aula 3 da\nImersão IA da Alura, baseado no conteúdo do\nvídeo oficial que passei: https://www.youtube.com/\nwatch?v=PldyIefUPOg&t=1s\nAula 3 \u0000 IA no seu dia a dia: do Google Calendar ao Drive com Gemini\n1. Integração do Google Gemini com o Ecossistema Google\nAtivação de Apps:\nA aula começa mostrando como ativar e conectar o Google Gemini a diversos serviços do\nGoogle \u0000Google Workspace), como Gmail, Google Drive, Google Docs, Google Calendar,\nGoogle Maps, Google Flights, Google Hotels, YouTube, entre outros.\nConfiguração:\nÉ necessário acessar as configurações do Gemini e ativar os apps desejados, conectando\ncom sua conta Google pessoal.\n2. Produtividade com IA\u0000 Automatizando Tarefas Cotidianas\nCriação de eventos no Google Calendar:\nDemonstração prática de como criar um evento no Google Calendar diretamente pelo\nGemini, usando linguagem natural e o comando @Google Calendar.\nExemplo: Criar um lembrete para a live de encerramento da imersão, especificando data e\nhorário.\nVantagem:\nA integração elimina a necessidade de copiar e colar informações entre aplicativos,\ncentralizando as ações dentro do Gemini.\n3. Planejamento de Viagem Integrado com IA\nRoteiro de Viagem:\nUtilização do Gemini para criar um roteiro de 10 dias pela Turquia, começando e terminando\nem Istambul.\nUso do Google Maps:\nSolicitação para que o Gemini gere trajetos detalhados entre os pontos do roteiro,integrando com o Google Maps e fornecendo links diretos para as rotas.\nPersonalização:\nO usuário pode ajustar o tipo de transporte (carro, transporte público, bicicleta, etc.) e\nhorários diretamente pelo Maps.\n4. Pesquisa de Voos e Hotéis com IA\nGoogle Flights \u0000Voos\u0000:\nO Gemini busca preços de voos para todos os trechos do roteiro, inclusive voos\ninternacionais e domésticos, utilizando o comando @Google Voos (ou Flights).\nRefinamento:\nÉ possível pedir voos para datas e trechos específicos, e o Gemini retorna opções\nordenadas por preço, escalas, etc.\nGoogle Hotels \u0000Hotéis\u0000:\nO Gemini sugere hotéis em cada cidade do roteiro, mostrando preços, opções de reserva e\nlinks para o Google Hotels, onde é possível ver fotos, avaliações e reservar.\n5. Outras Aplicações Práticas\nSugestões de Restaurantes:\nCom a integração ao Google Maps, é possível pedir recomendações de restaurantes por\nlocalização, tipo de culinária ou avaliação.\nCentralização de Ações:\nO objetivo é mostrar como a IA pode ser usada como central de produtividade, conectando\ne automatizando tarefas do cotidiano, desde organização pessoal até planejamento de\nviagens e reuniões.\n6. Dicas e Boas Práticas\nUso do “@”:\nSempre que quiser acionar um serviço específico do Google, utilize o símbolo “@” seguido\ndo nome do app (ex: @Google Calendar, @Google Maps).\nLinguagem Natural:\nA IA entende comandos em linguagem natural, facilitando a interação para quem não tem\nconhecimento técnico.\nExploração:\nIncentivo para que os alunos explorem a integração com outros apps Google e testem\ncomandos para automatizar tarefas do dia a dia.A Aula 3 mostra, na prática, como o Google Gemini pode ser integrado ao ecossistema Google\npara automatizar tarefas, organizar a rotina, planejar viagens e centralizar ações cotidianas\nusando IA. O foco é transformar a IA em uma verdadeira assistente pessoal e profissional,\notimizando tempo e aumentando a produtividade.\nSe quiser, posso sugerir exercícios práticos para você experimentar essas integrações no seu\ndia a dia!\n⁂Resumo Final"
          },
          "metadata": {}
        },
        {
          "output_type": "stream",
          "name": "stdout",
          "text": [
            "\n",
            "Arquivo: Resumo Aula 4 – Criando seu primeiro chatbot com IA generativa.pdf\n",
            "Segue o que foi discutido na aula:\n"
          ]
        },
        {
          "output_type": "display_data",
          "data": {
            "text/plain": [
              "<IPython.core.display.Markdown object>"
            ],
            "text/markdown": "Resposta:\n Aqui está um resumo detalhado da Aula 4 da Imersão IA da Alura, baseada no vídeo oficial\n(assista aqui):\nPoderia fazer resumo detalhado da Aula 4 da\nImersão IA da Alura, baseado no conteúdo do\nvídeo oficial que passei: https://www.youtube.com/\nwatch?v=7xco9igjUAQ&t=1s\nAula 4 \u0000 Criando seu primeiro chatbot com IA generativa\n1. Contexto e Motivação\nA aula marca o início do contato prático com programação, especialmente para quem nunca\nprogramou.\nMostra que todos podem participar dos desafios e prêmios da imersão, independentemente\ndo nível de conhecimento em programação.\nTraz depoimento de um ex-participante que não era desenvolvedor, mas venceu a edição\nanterior, incentivando todos a tentarem.\n2. Revisão e Preparação\nRecapitula conceitos de Python ensinados na masterclass intermediária (variáveis, funções,\noperadores, ifs).\nReforça a importância de aplicar o que é aprendido, não apenas assistir às aulas.\n3. Google AI Studio e API Key\nDemonstra como obter e gerenciar a chave de API \u0000API Key) no Google AI Studio, essencial\npara conectar aplicações ao modelo Gemini.\nMostra que é possível criar, copiar e apagar chaves conforme necessário.4. Grounding com Google Search\nExplica a limitação de conhecimento dos modelos de IA (data de corte do treinamento).\nIntroduz o recurso “Grounding with Google Search”, que permite ao modelo buscar\ninformações atualizadas na internet antes de responder, garantindo dados mais recentes e\nconfiáveis.\nExemplo prático: busca do resultado do último jogo Brasil x Argentina, mostrando a\ndiferença entre resposta baseada apenas no modelo e resposta com grounding (incluindo\nfontes e links para validação).\n5. Introdução ao Google Colab\nApresenta o Google Colab, ambiente online e gratuito para programação em Python, onde\ntodos podem acompanhar sem precisar instalar nada no computador.\nExplica vantagens do Colab: acessível, centralizado, com dependências já instaladas.\n6. SDK e Instalação de Bibliotecas\nExplica o conceito de SDK \u0000Software Development Kit), que facilita a integração de\naplicações com serviços como o Gemini.\nEnsina como instalar a SDK do Gemini no Colab usando o comando pip, facilitando o acesso\nà IA generativa via código.\n7. Projeto Prático: Criando um Chatbot\nO objetivo prático da aula é criar um chatbot simples, conectando o Python ao Gemini\nusando a API Key.\nO chatbot será capaz de receber perguntas do usuário e retornar respostas geradas pela\nIA, tudo via código Python no Colab.\nMostra passo a passo: conectar ambiente, instalar SDK, configurar chave de API, enviar\nperguntas e receber respostas.\n8. Incentivo à Criatividade e Aplicação\nEncoraja os alunos a pensarem em soluções do cotidiano que podem ser resolvidas ou\nfacilitadas com IA, mesmo sem serem grandes inovações.\nDestaca a importância de compartilhar projetos, pois o impacto pode ser significativo para\noutras pessoas.A Aula 4 é um divisor de águas na imersão: você aprende a conectar Python com a IA\ngenerativa do Google Gemini, cria seu primeiro chatbot e entende como buscar informações\natualizadas usando grounding. O foco é desmistificar a programação, mostrar que todos podem\ncriar soluções com IA e incentivar a aplicação prática do conhecimento.\nSe quiser, posso detalhar o passo a passo do código do chatbot apresentado na aula!\n⁂Resumo Final"
          },
          "metadata": {}
        },
        {
          "output_type": "stream",
          "name": "stdout",
          "text": [
            "\n",
            "Arquivo: Resumo Aula 5 – Construindo agentes que resolvem tarefas por você.pdf\n",
            "Segue o que foi discutido na aula:\n"
          ]
        },
        {
          "output_type": "display_data",
          "data": {
            "text/plain": [
              "<IPython.core.display.Markdown object>"
            ],
            "text/markdown": "Resposta:\n Aqui está um resumo detalhado da Aula 5 da Imersão IA da Alura, baseada no conteúdo do\nvídeo oficial que você indicou:\nPoderia fazer resumo detalhado da Aula 5 da\nImersão IA da Alura, baseado no conteúdo do\nvídeo oficial que passei: https://www.youtube.com/\nwatch?v=_CzMiNTDLMI\nAula 5 \u0000 Construindo agentes que resolvem tarefas por você\n1. Introdução e Contexto\nA aula final da imersão apresenta o conceito e a construção de agentes de IA, que são\nsistemas capazes de executar tarefas complexas de forma autônoma, combinando\nmúltiplas habilidades e interagindo com diferentes ferramentas.\nO foco é mostrar o poder dos agentes para profissionais de diversas áreas, como\nmarketing, finanças, advocacia, e também para desenvolvedores.\nÉ o momento de aplicar os conhecimentos adquiridos nas aulas anteriores para construir\nsistemas multiagentes que podem ser usados no dia a dia.\n2. Projeto Final e Desafio\nOs alunos são lembrados que o prazo para entrega do projeto final está aberto até sábado\nàs 23h59.\nApós o envio, haverá votação na comunidade do Discord para escolher os melhores\nprojetos, que serão avaliados pela banca da imersão.\nA live de encerramento será na segunda-feira, com anúncio dos vencedores e apresentação\nde uma condição especial para assinatura da Alura.\n3. Ferramentas e Preparação\nA aula utiliza o Google AI Studio e o ambiente Google Colab para desenvolvimento.\nReforça-se a necessidade da API Key para conectar o código ao modelo Gemini.\nAo invés de começar o código do zero, os alunos recebem um notebook Colab pré-pronto\ncom um framework para agentes, facilitando o uso e a customização, mesmo para quem\nnão tem muita experiência em programação.4. Framework ADK \u0000Agent Development Kit)\nApresentação do ADK, kit de desenvolvimento de agentes lançado pelo Google.\nO ADK facilita a criação e orquestração de agentes, permitindo que múltiplos agentes\ntrabalhem em conjunto para resolver tarefas complexas.\nO framework já vem com várias funcionalidades prontas, reduzindo o esforço de\nprogramação e permitindo foco na lógica do negócio.\n5. Conexão com Google Search e Grounding\nExplicação sobre a limitação do conhecimento dos modelos de IA (data de corte do\ntreinamento).\nDemonstração de como integrar a busca do Google \u0000Google Search) para que o agente\npossa acessar informações atualizadas em tempo real - recurso chamado grounding.\nExemplo prático: perguntar ao agente sobre eventos recentes, que não estão no\nconhecimento estático do modelo, e obter respostas com fontes e links.\n6. Configuração e Uso do Colab\nPassos para criar uma cópia do notebook no Google Drive e trabalhar na própria versão.\nConfiguração das variáveis de ambiente para armazenar a API Key de forma segura.\nInstalação da biblioteca google-genai para usar o SDK do Gemini.\nInicialização do cliente Gemini e definição do modelo a ser usado.\n7. Construção do Agente\nDemonstração passo a passo do código para criar um agente simples que responde a\nperguntas usando Gemini e Google Search.\nExplicação da estrutura do código, incluindo como definir as ferramentas que o agente\npode usar.\nUso do parâmetro config para ativar a busca do Google dentro das chamadas ao modelo.\nO agente pode buscar informações na internet, analisar e sintetizar respostas, tornando-se\nmuito mais útil e atualizado.\n8. Personalização e Extensão\nO notebook pré-pronto permite que os alunos alterem o agente para casos de uso\nespecíficos, como atendimento ao cliente, assistente pessoal, análise de dados, entre\noutros.A Aula 5 fecha a imersão mostrando como construir agentes inteligentes usando o Google\nGemini e o ADK, integrando capacidades de busca e orquestração para resolver tarefas\ncomplexas de forma autônoma. É uma aula prática, com código pronto para facilitar o\naprendizado, e que prepara o aluno para aplicar IA generativa em projetos reais, ampliando sua\nprodutividade e impacto profissional.\nSe quiser, posso ajudar a detalhar o código do agente ou sugerir ideias para seu projeto final!\n⁂Incentivo para explorar o framework, criar múltiplos agentes e orquestrá-los para tarefas\nmais complexas.\nEncorajamento para compartilhar os projetos e continuar aprendendo.\n9. Encerramento e Próximos Passos\nA equipe reforça a importância de praticar e aplicar o que foi aprendido.\nLembra que a imersão é apenas o começo e que há muitos cursos e formações na Alura\npara aprofundar conhecimentos em IA, ciência de dados, programação e outras áreas.\nConvite para a live de encerramento, onde serão anunciados os vencedores e discutidos os\npróximos passos no universo da inteligência artificial.\nResumo Final"
          },
          "metadata": {}
        }
      ]
    },
    {
      "cell_type": "markdown",
      "source": [
        "#ATENÇÃO!!!\n",
        "\n",
        "O CÓDIGO ACIMA SÓ FUNCIONARÁ PARA MIM POIS SOMENTE EU TENHO ACESSO AO MEU DRIVE PESSOAL ONDE ESTÃO OS PDFS QUE EU GEREI A PARTIR DO PERPEXITY RESUMINDO OS VIDEOS DO YOUTUBE DAS AULAS, POIS PELO GEMINI NÃO FUNCIONOU. DAÍ FIZ UM A UM O RESUMO DAS AULAS DE VIDEO, SALVEI NO MEU DRIVE E IMPLEMENTEI PELA PRIMEIRA VEZ O ACESSO AO DRIVE, QUE NÃO FOI DADO NO CURSO, COM O AUXILIO DO GEMINI PEDINDO PARA ELE GERAR CODIGO PYTHON POR MIM\n",
        "\n",
        "MAS SE VC É CURIOSÃO E QUER VER O CÓDIGO FUNCIONANDO, ALTERE A CÉLULA ABAIXO PARA UMA PASTA EXISTENTE NO TEU GOOGLE DRIVE E COLOQUE 1 OU MAIS PDFS DE QQ ASSUNTO LÁ SÓ PARA VER QUE FUNCIONA\n",
        "# Defina o caminho para a pasta dos PDFs\n",
        "pasta_pdfs = '/content/drive/MyDrive/Imersão IA da Alura'"
      ],
      "metadata": {
        "id": "U4AIMwilB0Kw"
      }
    },
    {
      "cell_type": "markdown",
      "source": [
        "SENDO ASSIM, VOU COLAR AQUI TODO O TEXTO GERADO PELO CÓDIGO ACIMA, NO COPY PASTE MESMO :\n",
        "\n",
        "Encontrei 6 arquivos PDF na pasta '/content/drive/MyDrive/Imersão IA da Alura':\n",
        "\n",
        "Arquivo: Resumo Aula 0 - MasterClass - Como a IA aprendeu a falar.pdf\n",
        "Segue o que foi discutido na aula:\n",
        "Resposta: Aula 0 = https://youtu.be/_xV9Pcvkq_Y Aula 1 = https://www.youtube.com/watch?v=PzTBbxEGmYo Aula 2 = https://youtu.be/BOfY6FKbqE Aula 3 = https://www.youtube.com/watch?v=PldyIefUPOg&t=1s Aula 4 = https://www.youtube.com/watch?v=7xco9igjUAQ&t=1s Aula 5 = https://www.youtube.com/watch?v=_CzMiNTDLMI Aqui está um resumo detalhado da Aula 0 da Imersão IA da Alura, baseado no conteúdo do vídeo oficial: Olá, seguem os links dos videos da imersão IA da Alura: Aula 0 Introdução e História da Inteligência Artificial Objetivo da aula: Preparar os alunos para a imersão, apresentando a história da inteligência artificial IA) desde a origem do termo até os avanços recentes, além de introduzir uma ferramenta de estudo inovadora. Ferramenta NotebookLM do Google: Uma ferramenta que permite importar e organizar conteúdos de diversas fontes PDFs, sites, vídeos, documentos) para estudo assistido por IA. Pode gerar mapas mentais, resumos, notas e responder perguntas baseadas no material importado, facilitando o aprendizado. História da IA Primórdios (pré-1950 A ideia de máquinas pensantes tem raízes antigas, mas o marco inicial real é a invenção do computador digital na década de 1940. Em 1943, McCulloch e Pitts criaram o modelo matemático do neurônio artificial, inspirado no funcionamento do cérebro humano, usando lógica binária. Alan Turing, considerado o pai da computação, publicou em 1950 o artigo \"Computing Machinery and Intelligence\", propondo o Teste de Turing para avaliar se uma máquina pode exibir comportamento inteligente indistinguível do humano. Década de 1950Este resumo da Aula 0 traz uma visão geral da evolução da IA, preparando os alunos para entender os conceitos e tecnologias atuais. Se desejar, posso preparar resumos similares para as outras aulas 1 a 5) com base nos conteúdos disponíveis. ⁂Em 1956, na conferência de Dartmouth, John McCarthy cunhou o termo \"inteligência artificial\". Os primeiros programas de xadrez e os primeiros sistemas baseados em redes neurais foram desenvolvidos. Décadas de 1960 e 1970 Houve grande entusiasmo com sistemas especialistas e chatbots primitivos, como o ELIZA, que simulava conversas simples. Porém, as limitações técnicas e o poder computacional insuficiente levaram a dificuldades para resolver problemas complexos. Invernos da IA Nos anos 70 e final dos anos 80, ocorreram períodos chamados \"invernos da IA\", quando o interesse e o financiamento diminuíram devido a expectativas não cumpridas e limitações técnicas. Renascimento no século 21 A partir dos anos 2000, a IA renasceu com o avanço do deep learning (aprendizado profundo). Três pesquisadores são destacados como \"pais do deep learning\": Yoshua Bengio, Yann LeCun e Geoffrey Hinton, ganhadores do prêmio Turing. Fatores que impulsionaram esse renascimento: maior poder computacional Lei de Moore), disponibilidade de big data, avanços em redes neurais convolucionais (para imagens) e recorrentes (para sequências). Aplicações práticas surgiram, como assistentes virtuais Siri, Alexa, Google Assistant), sistemas de recomendação, chatbots e detecção de fraudes.\n",
        "\n",
        "\n",
        "Arquivo: Resumo Aula 1 - O que uma IA de última geração pode fazer por vc.pdf\n",
        "Segue o que foi discutido na aula:\n",
        "Resposta: Aqui está um resumo detalhado da Aula 1 da Imersão IA da Alura, baseado no conteúdo oficial e fontes relacionadas: Poderia fazer resumo detalhado da Aula 1 da Imersão IA da Alura, baseado no conteúdo do vídeo oficial que passei? Aula 1 O que uma IA de última geração pode fazer por você? Apresentação do Google Gemini O Google Gemini é um modelo de linguagem de última geração LLM) que combina capacidades multimodais, ou seja, pode processar e gerar texto, imagens e outros tipos de dados simultaneamente. Ele é capaz de compreender e gerar textos com qualidade semelhante à humana, traduzir idiomas, criar conteúdos criativos, analisar sentimentos, gerar códigos e muito mais. O Gemini é acessível para usuários iniciantes por meio da plataforma gemini.google.com, que oferece uma interface de chat simples e gratuita para exploração. Para desenvolvedores e cientistas de dados, o AI Studio (aistudio.google.com) permite customização, codificação e integração avançada com APIs. Potencial e Aplicações Práticas A aula destaca como o Gemini pode ser usado para transformar o dia a dia profissional, automatizando tarefas repetitivas, acelerando processos criativos e facilitando a tomada de decisões. Exemplos de uso incluem criação de chatbots, geração de textos para marketing, análise de dados financeiros, suporte jurídico, entre outros. O foco é mostrar que a IA não substitui o profissional, mas aumenta sua autonomia e produtividade, funcionando como uma poderosa ferramenta de apoio. Engenharia de Prompts Um ponto central da aula é a importância da formulação correta dos prompts (instruções dadas à IA) para obter respostas eficazes. São apresentadas técnicas como: Zero-shot: pedir à IA para realizar uma tarefa sem exemplos prévios. Few-shot: fornecer alguns exemplos para guiar a resposta.Este resumo cobre os principais pontos da Aula 1, que apresenta o Google Gemini, suas capacidades, técnicas para interagir com IA e o caminho para aplicar esses conhecimentos na prática profissional. ⁂Chain of Thought: incentivar a IA a pensar passo a passo para resolver problemas complexos. A engenharia de prompts é essencial para maximizar o potencial do Gemini e criar interações mais precisas e úteis. Desenvolvimento Prático Os participantes são introduzidos à criação de chatbots usando a API do Gemini no Google AI Studio, aprendendo a construir sistemas que interagem com usuários de forma autônoma. Além disso, a aula prepara para o desenvolvimento de sistemas multi-agentes, onde múltiplos agentes de IA trabalham juntos para executar tarefas complexas sem intervenção constante. Benefícios da Imersão A imersão é gratuita, online e sem pré-requisitos, com aulas ministradas por especialistas da Alura e do Google, incluindo Valquíria Alencar, Fabrício Carraro e Luciano Martins. Ao final, os participantes recebem certificado Alura + Google e podem concorrer a prêmios com seus projetos. A comunidade exclusiva e as mentorias ajudam a aprofundar o aprendizado e a aplicação prática. 12 https://www.alura.com.br/artigos/imersao-ia https://pt.linkedin.com/pulse/imersão-alura-ai-com-google-gemini-marco-antonio-de-oliveira-filho--tic pf\n",
        "\n",
        "\n",
        "Arquivo: Resumo Aula 2 - Como conversar com a IA e fazer ela trabalhar por vc.pdf\n",
        "Segue o que foi discutido na aula:\n",
        "Resposta: Claro! Aqui está um resumo detalhado da Aula 2 da Imersão IA da Alura, baseada no vídeo oficial (link para o vídeo): A aula 2 aprofunda o conceito de engenharia de prompt, mostrando como conversar de forma mais eficiente com modelos de IA (como o Google Gemini) para obter resultados melhores, mais precisos e úteis para o seu trabalho e projetos. na verdade a aula 2 da imersão foi outra: https://w ww.youtube.com/watch?v=BOfY6FKbqE&t=1s Aula 2 Como conversar com a IA e fazer ela trabalhar pra você\n",
        "\n",
        "Foco da Aula\n",
        "O que é Engenharia de Prompt? Prompt é a mensagem ou instrução que você envia para a IA. Engenharia de prompt é o processo de projetar essas instruções de forma clara, específica e detalhada, para que a IA entenda exatamente o que você deseja. A comparação feita é com um estagiário muito inteligente, mas sem experiência: quanto mais contexto e detalhes você der, melhor será a resposta.\n",
        "Exemplos Práticos a) Solicitações Genéricas vs. Específicas Exemplo 1 Pedir “me fale sobre São Paulo” gera uma resposta muito ampla. Exemplo 2 Pedir “me fale sobre os três maiores clubes de futebol de São Paulo” já é mais específico e direciona melhor a resposta. Quanto mais detalhes no prompt, mais relevante será a resposta. b) Geração de Código Pedir simplesmente “crie um código para verificar se um ano é bissexto” pode resultar em uma resposta em Python, sem comentários. Se você especificar “crie um código em TypeScript, com comentários em cada linha”, a IA entrega exatamente o que você pediu, na linguagem e formato desejados.A Aula 2 ensina que a chave para tirar o máximo proveito da inteligência artificial está em como você conversa com ela. Aprender a construir prompts claros, detalhados e bem estruturados é o que transforma a IA em uma ferramenta poderosa para qualquer área profissional. Se quiser, posso sugerir exercícios práticos ou dicas para aplicar a engenharia de prompt no seu trabalho ou estudos! ⁂c) Campanha de Marketing Pedir “crie uma campanha de viagem para a Turquia” resulta em uma resposta genérica. Ao detalhar: “Trabalho para uma agência de viagens chamada Carrarurquia, crio campanhas para brasileiros entre 30 e 60 anos, interessados em história e cultura, focando em Istambul, Izmir e Capadócia”, a IA gera uma campanha muito mais alinhada ao público e objetivo.\n",
        "Técnicas de Engenharia de Prompt Seja específico: Quanto mais detalhes você fornecer, melhor. Divida tarefas complexas: Se a tarefa for grande, divida em subtarefas e peça para a IA resolver uma de cada vez. Dê contexto: Explique quem você é, qual seu objetivo, para quem é a resposta. Teste e ajuste: Não tenha medo de experimentar diferentes formas de pedir até chegar ao resultado ideal.\n",
        "Por que isso é importante? Modelos de IA são probabilísticos e podem interpretar prompts de formas diferentes. A clareza e especificidade do prompt aumentam a chance de obter respostas relevantes e aplicáveis ao seu contexto profissional. Essas técnicas ajudam a IA a se tornar uma verdadeira parceira de produtividade e criatividade.\n",
        "Exercício Prático Os instrutores sugerem que você pratique criando prompts cada vez mais detalhados para tarefas do seu dia a dia, testando os resultados no Gemini. Experimente pedir para a IA gerar textos, códigos, campanhas, ou até mesmo dividir tarefas grandes em etapas menores. Resumo Final\n",
        "\n",
        "Arquivo: Resumo Aula 3 – IA no seu dia a dia do Google Calendar ao Drive com Gemini.pdf\n",
        "Segue o que foi discutido na aula:\n",
        "Resposta: Aqui está um resumo detalhado da Aula 3 da Imersão IA da Alura, baseada no vídeo oficial: Poderia fazer resumo detalhado da Aula 3 da Imersão IA da Alura, baseado no conteúdo do vídeo oficial que passei: https://www.youtube.com/ watch?v=PldyIefUPOg&t=1s Aula 3 IA no seu dia a dia: do Google Calendar ao Drive com Gemini\n",
        "\n",
        "Integração do Google Gemini com o Ecossistema Google Ativação de Apps: A aula começa mostrando como ativar e conectar o Google Gemini a diversos serviços do Google Google Workspace), como Gmail, Google Drive, Google Docs, Google Calendar, Google Maps, Google Flights, Google Hotels, YouTube, entre outros. Configuração: É necessário acessar as configurações do Gemini e ativar os apps desejados, conectando com sua conta Google pessoal.\n",
        "Produtividade com IA Automatizando Tarefas Cotidianas Criação de eventos no Google Calendar: Demonstração prática de como criar um evento no Google Calendar diretamente pelo Gemini, usando linguagem natural e o comando @Google Calendar. Exemplo: Criar um lembrete para a live de encerramento da imersão, especificando data e horário. Vantagem: A integração elimina a necessidade de copiar e colar informações entre aplicativos, centralizando as ações dentro do Gemini.\n",
        "Planejamento de Viagem Integrado com IA Roteiro de Viagem: Utilização do Gemini para criar um roteiro de 10 dias pela Turquia, começando e terminando em Istambul. Uso do Google Maps: Solicitação para que o Gemini gere trajetos detalhados entre os pontos do roteiro,integrando com o Google Maps e fornecendo links diretos para as rotas. Personalização: O usuário pode ajustar o tipo de transporte (carro, transporte público, bicicleta, etc.) e horários diretamente pelo Maps.\n",
        "Pesquisa de Voos e Hotéis com IA Google Flights Voos: O Gemini busca preços de voos para todos os trechos do roteiro, inclusive voos internacionais e domésticos, utilizando o comando @Google Voos (ou Flights). Refinamento: É possível pedir voos para datas e trechos específicos, e o Gemini retorna opções ordenadas por preço, escalas, etc. Google Hotels Hotéis: O Gemini sugere hotéis em cada cidade do roteiro, mostrando preços, opções de reserva e links para o Google Hotels, onde é possível ver fotos, avaliações e reservar.\n",
        "Outras Aplicações Práticas Sugestões de Restaurantes: Com a integração ao Google Maps, é possível pedir recomendações de restaurantes por localização, tipo de culinária ou avaliação. Centralização de Ações: O objetivo é mostrar como a IA pode ser usada como central de produtividade, conectando e automatizando tarefas do cotidiano, desde organização pessoal até planejamento de viagens e reuniões.\n",
        "Dicas e Boas Práticas Uso do “@”: Sempre que quiser acionar um serviço específico do Google, utilize o símbolo “@” seguido do nome do app (ex: @Google Calendar, @Google Maps). Linguagem Natural: A IA entende comandos em linguagem natural, facilitando a interação para quem não tem conhecimento técnico. Exploração: Incentivo para que os alunos explorem a integração com outros apps Google e testem comandos para automatizar tarefas do dia a dia.A Aula 3 mostra, na prática, como o Google Gemini pode ser integrado ao ecossistema Google para automatizar tarefas, organizar a rotina, planejar viagens e centralizar ações cotidianas usando IA. O foco é transformar a IA em uma verdadeira assistente pessoal e profissional, otimizando tempo e aumentando a produtividade. Se quiser, posso sugerir exercícios práticos para você experimentar essas integrações no seu dia a dia! ⁂Resumo Final\n",
        "\n",
        "Arquivo: Resumo Aula 4 – Criando seu primeiro chatbot com IA generativa.pdf\n",
        "Segue o que foi discutido na aula:\n",
        "Resposta: Aqui está um resumo detalhado da Aula 4 da Imersão IA da Alura, baseada no vídeo oficial (assista aqui): Poderia fazer resumo detalhado da Aula 4 da Imersão IA da Alura, baseado no conteúdo do vídeo oficial que passei: https://www.youtube.com/ watch?v=7xco9igjUAQ&t=1s Aula 4 Criando seu primeiro chatbot com IA generativa\n",
        "\n",
        "Contexto e Motivação A aula marca o início do contato prático com programação, especialmente para quem nunca programou. Mostra que todos podem participar dos desafios e prêmios da imersão, independentemente do nível de conhecimento em programação. Traz depoimento de um ex-participante que não era desenvolvedor, mas venceu a edição anterior, incentivando todos a tentarem.\n",
        "Revisão e Preparação Recapitula conceitos de Python ensinados na masterclass intermediária (variáveis, funções, operadores, ifs). Reforça a importância de aplicar o que é aprendido, não apenas assistir às aulas.\n",
        "Google AI Studio e API Key Demonstra como obter e gerenciar a chave de API API Key) no Google AI Studio, essencial para conectar aplicações ao modelo Gemini. Mostra que é possível criar, copiar e apagar chaves conforme necessário.4. Grounding com Google Search Explica a limitação de conhecimento dos modelos de IA (data de corte do treinamento). Introduz o recurso “Grounding with Google Search”, que permite ao modelo buscar informações atualizadas na internet antes de responder, garantindo dados mais recentes e confiáveis. Exemplo prático: busca do resultado do último jogo Brasil x Argentina, mostrando a diferença entre resposta baseada apenas no modelo e resposta com grounding (incluindo fontes e links para validação).\n",
        "Introdução ao Google Colab Apresenta o Google Colab, ambiente online e gratuito para programação em Python, onde todos podem acompanhar sem precisar instalar nada no computador. Explica vantagens do Colab: acessível, centralizado, com dependências já instaladas.\n",
        "SDK e Instalação de Bibliotecas Explica o conceito de SDK Software Development Kit), que facilita a integração de aplicações com serviços como o Gemini. Ensina como instalar a SDK do Gemini no Colab usando o comando pip, facilitando o acesso à IA generativa via código.\n",
        "Projeto Prático: Criando um Chatbot O objetivo prático da aula é criar um chatbot simples, conectando o Python ao Gemini usando a API Key. O chatbot será capaz de receber perguntas do usuário e retornar respostas geradas pela IA, tudo via código Python no Colab. Mostra passo a passo: conectar ambiente, instalar SDK, configurar chave de API, enviar perguntas e receber respostas.\n",
        "Incentivo à Criatividade e Aplicação Encoraja os alunos a pensarem em soluções do cotidiano que podem ser resolvidas ou facilitadas com IA, mesmo sem serem grandes inovações. Destaca a importância de compartilhar projetos, pois o impacto pode ser significativo para outras pessoas.A Aula 4 é um divisor de águas na imersão: você aprende a conectar Python com a IA generativa do Google Gemini, cria seu primeiro chatbot e entende como buscar informações atualizadas usando grounding. O foco é desmistificar a programação, mostrar que todos podem criar soluções com IA e incentivar a aplicação prática do conhecimento. Se quiser, posso detalhar o passo a passo do código do chatbot apresentado na aula! ⁂Resumo Final\n",
        "\n",
        "Arquivo: Resumo Aula 5 – Construindo agentes que resolvem tarefas por você.pdf\n",
        "Segue o que foi discutido na aula:\n",
        "Resposta: Aqui está um resumo detalhado da Aula 5 da Imersão IA da Alura, baseada no conteúdo do vídeo oficial que você indicou: Poderia fazer resumo detalhado da Aula 5 da Imersão IA da Alura, baseado no conteúdo do vídeo oficial que passei: https://www.youtube.com/ watch?v=_CzMiNTDLMI Aula 5 Construindo agentes que resolvem tarefas por você\n",
        "\n",
        "Introdução e Contexto A aula final da imersão apresenta o conceito e a construção de agentes de IA, que são sistemas capazes de executar tarefas complexas de forma autônoma, combinando múltiplas habilidades e interagindo com diferentes ferramentas. O foco é mostrar o poder dos agentes para profissionais de diversas áreas, como marketing, finanças, advocacia, e também para desenvolvedores. É o momento de aplicar os conhecimentos adquiridos nas aulas anteriores para construir sistemas multiagentes que podem ser usados no dia a dia.\n",
        "Projeto Final e Desafio Os alunos são lembrados que o prazo para entrega do projeto final está aberto até sábado às 23h59. Após o envio, haverá votação na comunidade do Discord para escolher os melhores projetos, que serão avaliados pela banca da imersão. A live de encerramento será na segunda-feira, com anúncio dos vencedores e apresentação de uma condição especial para assinatura da Alura.\n",
        "Ferramentas e Preparação A aula utiliza o Google AI Studio e o ambiente Google Colab para desenvolvimento. Reforça-se a necessidade da API Key para conectar o código ao modelo Gemini. Ao invés de começar o código do zero, os alunos recebem um notebook Colab pré-pronto com um framework para agentes, facilitando o uso e a customização, mesmo para quem não tem muita experiência em programação.4. Framework ADK Agent Development Kit) Apresentação do ADK, kit de desenvolvimento de agentes lançado pelo Google. O ADK facilita a criação e orquestração de agentes, permitindo que múltiplos agentes trabalhem em conjunto para resolver tarefas complexas. O framework já vem com várias funcionalidades prontas, reduzindo o esforço de programação e permitindo foco na lógica do negócio.\n",
        "Conexão com Google Search e Grounding Explicação sobre a limitação do conhecimento dos modelos de IA (data de corte do treinamento). Demonstração de como integrar a busca do Google Google Search) para que o agente possa acessar informações atualizadas em tempo real - recurso chamado grounding. Exemplo prático: perguntar ao agente sobre eventos recentes, que não estão no conhecimento estático do modelo, e obter respostas com fontes e links.\n",
        "Configuração e Uso do Colab Passos para criar uma cópia do notebook no Google Drive e trabalhar na própria versão. Configuração das variáveis de ambiente para armazenar a API Key de forma segura. Instalação da biblioteca google-genai para usar o SDK do Gemini. Inicialização do cliente Gemini e definição do modelo a ser usado.\n",
        "Construção do Agente Demonstração passo a passo do código para criar um agente simples que responde a perguntas usando Gemini e Google Search. Explicação da estrutura do código, incluindo como definir as ferramentas que o agente pode usar. Uso do parâmetro config para ativar a busca do Google dentro das chamadas ao modelo. O agente pode buscar informações na internet, analisar e sintetizar respostas, tornando-se muito mais útil e atualizado.\n",
        "Personalização e Extensão O notebook pré-pronto permite que os alunos alterem o agente para casos de uso específicos, como atendimento ao cliente, assistente pessoal, análise de dados, entre outros.A Aula 5 fecha a imersão mostrando como construir agentes inteligentes usando o Google Gemini e o ADK, integrando capacidades de busca e orquestração para resolver tarefas complexas de forma autônoma. É uma aula prática, com código pronto para facilitar o aprendizado, e que prepara o aluno para aplicar IA generativa em projetos reais, ampliando sua produtividade e impacto profissional. Se quiser, posso ajudar a detalhar o código do agente ou sugerir ideias para seu projeto final! ⁂Incentivo para explorar o framework, criar múltiplos agentes e orquestrá-los para tarefas mais complexas. Encorajamento para compartilhar os projetos e continuar aprendendo.\n",
        "Encerramento e Próximos Passos A equipe reforça a importância de praticar e aplicar o que foi aprendido. Lembra que a imersão é apenas o começo e que há muitos cursos e formações na Alura para aprofundar conhecimentos em IA, ciência de dados, programação e outras áreas. Convite para a live de encerramento, onde serão anunciados os vencedores e discutidos os próximos passos no universo da inteligência artificial. Resumo Final"
      ],
      "metadata": {
        "id": "ij6cmReQCVqO"
      }
    },
    {
      "cell_type": "code",
      "source": [
        "cola_para_os_brothers = \"\"\"\n",
        "Encontrei 6 arquivos PDF na pasta '/content/drive/MyDrive/Imersão IA da Alura':\n",
        "\n",
        "Arquivo: Resumo Aula 0 - MasterClass - Como a IA aprendeu a falar.pdf\n",
        "Segue o que foi discutido na aula:\n",
        "Resposta: Aula 0 = https://youtu.be/_xV9Pcvkq_Y Aula 1 = https://www.youtube.com/watch?v=PzTBbxEGmYo Aula 2 = https://youtu.be/BOfY6FKbqE Aula 3 = https://www.youtube.com/watch?v=PldyIefUPOg&t=1s Aula 4 = https://www.youtube.com/watch?v=7xco9igjUAQ&t=1s Aula 5 = https://www.youtube.com/watch?v=_CzMiNTDLMI Aqui está um resumo detalhado da Aula 0 da Imersão IA da Alura, baseado no conteúdo do vídeo oficial: Olá, seguem os links dos videos da imersão IA da Alura: Aula 0 Introdução e História da Inteligência Artificial Objetivo da aula: Preparar os alunos para a imersão, apresentando a história da inteligência artificial IA) desde a origem do termo até os avanços recentes, além de introduzir uma ferramenta de estudo inovadora. Ferramenta NotebookLM do Google: Uma ferramenta que permite importar e organizar conteúdos de diversas fontes PDFs, sites, vídeos, documentos) para estudo assistido por IA. Pode gerar mapas mentais, resumos, notas e responder perguntas baseadas no material importado, facilitando o aprendizado. História da IA Primórdios (pré-1950 A ideia de máquinas pensantes tem raízes antigas, mas o marco inicial real é a invenção do computador digital na década de 1940. Em 1943, McCulloch e Pitts criaram o modelo matemático do neurônio artificial, inspirado no funcionamento do cérebro humano, usando lógica binária. Alan Turing, considerado o pai da computação, publicou em 1950 o artigo \"Computing Machinery and Intelligence\", propondo o Teste de Turing para avaliar se uma máquina pode exibir comportamento inteligente indistinguível do humano. Década de 1950Este resumo da Aula 0 traz uma visão geral da evolução da IA, preparando os alunos para entender os conceitos e tecnologias atuais. Se desejar, posso preparar resumos similares para as outras aulas 1 a 5) com base nos conteúdos disponíveis. ⁂Em 1956, na conferência de Dartmouth, John McCarthy cunhou o termo \"inteligência artificial\". Os primeiros programas de xadrez e os primeiros sistemas baseados em redes neurais foram desenvolvidos. Décadas de 1960 e 1970 Houve grande entusiasmo com sistemas especialistas e chatbots primitivos, como o ELIZA, que simulava conversas simples. Porém, as limitações técnicas e o poder computacional insuficiente levaram a dificuldades para resolver problemas complexos. Invernos da IA Nos anos 70 e final dos anos 80, ocorreram períodos chamados \"invernos da IA\", quando o interesse e o financiamento diminuíram devido a expectativas não cumpridas e limitações técnicas. Renascimento no século 21 A partir dos anos 2000, a IA renasceu com o avanço do deep learning (aprendizado profundo). Três pesquisadores são destacados como \"pais do deep learning\": Yoshua Bengio, Yann LeCun e Geoffrey Hinton, ganhadores do prêmio Turing. Fatores que impulsionaram esse renascimento: maior poder computacional Lei de Moore), disponibilidade de big data, avanços em redes neurais convolucionais (para imagens) e recorrentes (para sequências). Aplicações práticas surgiram, como assistentes virtuais Siri, Alexa, Google Assistant), sistemas de recomendação, chatbots e detecção de fraudes.\n",
        "\n",
        "\n",
        "Arquivo: Resumo Aula 1 - O que uma IA de última geração pode fazer por vc.pdf\n",
        "Segue o que foi discutido na aula:\n",
        "Resposta: Aqui está um resumo detalhado da Aula 1 da Imersão IA da Alura, baseado no conteúdo oficial e fontes relacionadas: Poderia fazer resumo detalhado da Aula 1 da Imersão IA da Alura, baseado no conteúdo do vídeo oficial que passei? Aula 1 O que uma IA de última geração pode fazer por você? Apresentação do Google Gemini O Google Gemini é um modelo de linguagem de última geração LLM) que combina capacidades multimodais, ou seja, pode processar e gerar texto, imagens e outros tipos de dados simultaneamente. Ele é capaz de compreender e gerar textos com qualidade semelhante à humana, traduzir idiomas, criar conteúdos criativos, analisar sentimentos, gerar códigos e muito mais. O Gemini é acessível para usuários iniciantes por meio da plataforma gemini.google.com, que oferece uma interface de chat simples e gratuita para exploração. Para desenvolvedores e cientistas de dados, o AI Studio (aistudio.google.com) permite customização, codificação e integração avançada com APIs. Potencial e Aplicações Práticas A aula destaca como o Gemini pode ser usado para transformar o dia a dia profissional, automatizando tarefas repetitivas, acelerando processos criativos e facilitando a tomada de decisões. Exemplos de uso incluem criação de chatbots, geração de textos para marketing, análise de dados financeiros, suporte jurídico, entre outros. O foco é mostrar que a IA não substitui o profissional, mas aumenta sua autonomia e produtividade, funcionando como uma poderosa ferramenta de apoio. Engenharia de Prompts Um ponto central da aula é a importância da formulação correta dos prompts (instruções dadas à IA) para obter respostas eficazes. São apresentadas técnicas como: Zero-shot: pedir à IA para realizar uma tarefa sem exemplos prévios. Few-shot: fornecer alguns exemplos para guiar a resposta.Este resumo cobre os principais pontos da Aula 1, que apresenta o Google Gemini, suas capacidades, técnicas para interagir com IA e o caminho para aplicar esses conhecimentos na prática profissional. ⁂Chain of Thought: incentivar a IA a pensar passo a passo para resolver problemas complexos. A engenharia de prompts é essencial para maximizar o potencial do Gemini e criar interações mais precisas e úteis. Desenvolvimento Prático Os participantes são introduzidos à criação de chatbots usando a API do Gemini no Google AI Studio, aprendendo a construir sistemas que interagem com usuários de forma autônoma. Além disso, a aula prepara para o desenvolvimento de sistemas multi-agentes, onde múltiplos agentes de IA trabalham juntos para executar tarefas complexas sem intervenção constante. Benefícios da Imersão A imersão é gratuita, online e sem pré-requisitos, com aulas ministradas por especialistas da Alura e do Google, incluindo Valquíria Alencar, Fabrício Carraro e Luciano Martins. Ao final, os participantes recebem certificado Alura + Google e podem concorrer a prêmios com seus projetos. A comunidade exclusiva e as mentorias ajudam a aprofundar o aprendizado e a aplicação prática. 12 https://www.alura.com.br/artigos/imersao-ia https://pt.linkedin.com/pulse/imersão-alura-ai-com-google-gemini-marco-antonio-de-oliveira-filho--tic pf\n",
        "\n",
        "\n",
        "Arquivo: Resumo Aula 2 - Como conversar com a IA e fazer ela trabalhar por vc.pdf\n",
        "Segue o que foi discutido na aula:\n",
        "Resposta: Claro! Aqui está um resumo detalhado da Aula 2 da Imersão IA da Alura, baseada no vídeo oficial (link para o vídeo): A aula 2 aprofunda o conceito de engenharia de prompt, mostrando como conversar de forma mais eficiente com modelos de IA (como o Google Gemini) para obter resultados melhores, mais precisos e úteis para o seu trabalho e projetos. na verdade a aula 2 da imersão foi outra: https://w ww.youtube.com/watch?v=BOfY6FKbqE&t=1s Aula 2 Como conversar com a IA e fazer ela trabalhar pra você\n",
        "\n",
        "Foco da Aula\n",
        "O que é Engenharia de Prompt? Prompt é a mensagem ou instrução que você envia para a IA. Engenharia de prompt é o processo de projetar essas instruções de forma clara, específica e detalhada, para que a IA entenda exatamente o que você deseja. A comparação feita é com um estagiário muito inteligente, mas sem experiência: quanto mais contexto e detalhes você der, melhor será a resposta.\n",
        "Exemplos Práticos a) Solicitações Genéricas vs. Específicas Exemplo 1 Pedir “me fale sobre São Paulo” gera uma resposta muito ampla. Exemplo 2 Pedir “me fale sobre os três maiores clubes de futebol de São Paulo” já é mais específico e direciona melhor a resposta. Quanto mais detalhes no prompt, mais relevante será a resposta. b) Geração de Código Pedir simplesmente “crie um código para verificar se um ano é bissexto” pode resultar em uma resposta em Python, sem comentários. Se você especificar “crie um código em TypeScript, com comentários em cada linha”, a IA entrega exatamente o que você pediu, na linguagem e formato desejados.A Aula 2 ensina que a chave para tirar o máximo proveito da inteligência artificial está em como você conversa com ela. Aprender a construir prompts claros, detalhados e bem estruturados é o que transforma a IA em uma ferramenta poderosa para qualquer área profissional. Se quiser, posso sugerir exercícios práticos ou dicas para aplicar a engenharia de prompt no seu trabalho ou estudos! ⁂c) Campanha de Marketing Pedir “crie uma campanha de viagem para a Turquia” resulta em uma resposta genérica. Ao detalhar: “Trabalho para uma agência de viagens chamada Carrarurquia, crio campanhas para brasileiros entre 30 e 60 anos, interessados em história e cultura, focando em Istambul, Izmir e Capadócia”, a IA gera uma campanha muito mais alinhada ao público e objetivo.\n",
        "Técnicas de Engenharia de Prompt Seja específico: Quanto mais detalhes você fornecer, melhor. Divida tarefas complexas: Se a tarefa for grande, divida em subtarefas e peça para a IA resolver uma de cada vez. Dê contexto: Explique quem você é, qual seu objetivo, para quem é a resposta. Teste e ajuste: Não tenha medo de experimentar diferentes formas de pedir até chegar ao resultado ideal.\n",
        "Por que isso é importante? Modelos de IA são probabilísticos e podem interpretar prompts de formas diferentes. A clareza e especificidade do prompt aumentam a chance de obter respostas relevantes e aplicáveis ao seu contexto profissional. Essas técnicas ajudam a IA a se tornar uma verdadeira parceira de produtividade e criatividade.\n",
        "Exercício Prático Os instrutores sugerem que você pratique criando prompts cada vez mais detalhados para tarefas do seu dia a dia, testando os resultados no Gemini. Experimente pedir para a IA gerar textos, códigos, campanhas, ou até mesmo dividir tarefas grandes em etapas menores. Resumo Final\n",
        "\n",
        "Arquivo: Resumo Aula 3 – IA no seu dia a dia do Google Calendar ao Drive com Gemini.pdf\n",
        "Segue o que foi discutido na aula:\n",
        "Resposta: Aqui está um resumo detalhado da Aula 3 da Imersão IA da Alura, baseada no vídeo oficial: Poderia fazer resumo detalhado da Aula 3 da Imersão IA da Alura, baseado no conteúdo do vídeo oficial que passei: https://www.youtube.com/ watch?v=PldyIefUPOg&t=1s Aula 3 IA no seu dia a dia: do Google Calendar ao Drive com Gemini\n",
        "\n",
        "Integração do Google Gemini com o Ecossistema Google Ativação de Apps: A aula começa mostrando como ativar e conectar o Google Gemini a diversos serviços do Google Google Workspace), como Gmail, Google Drive, Google Docs, Google Calendar, Google Maps, Google Flights, Google Hotels, YouTube, entre outros. Configuração: É necessário acessar as configurações do Gemini e ativar os apps desejados, conectando com sua conta Google pessoal.\n",
        "Produtividade com IA Automatizando Tarefas Cotidianas Criação de eventos no Google Calendar: Demonstração prática de como criar um evento no Google Calendar diretamente pelo Gemini, usando linguagem natural e o comando @Google Calendar. Exemplo: Criar um lembrete para a live de encerramento da imersão, especificando data e horário. Vantagem: A integração elimina a necessidade de copiar e colar informações entre aplicativos, centralizando as ações dentro do Gemini.\n",
        "Planejamento de Viagem Integrado com IA Roteiro de Viagem: Utilização do Gemini para criar um roteiro de 10 dias pela Turquia, começando e terminando em Istambul. Uso do Google Maps: Solicitação para que o Gemini gere trajetos detalhados entre os pontos do roteiro,integrando com o Google Maps e fornecendo links diretos para as rotas. Personalização: O usuário pode ajustar o tipo de transporte (carro, transporte público, bicicleta, etc.) e horários diretamente pelo Maps.\n",
        "Pesquisa de Voos e Hotéis com IA Google Flights Voos: O Gemini busca preços de voos para todos os trechos do roteiro, inclusive voos internacionais e domésticos, utilizando o comando @Google Voos (ou Flights). Refinamento: É possível pedir voos para datas e trechos específicos, e o Gemini retorna opções ordenadas por preço, escalas, etc. Google Hotels Hotéis: O Gemini sugere hotéis em cada cidade do roteiro, mostrando preços, opções de reserva e links para o Google Hotels, onde é possível ver fotos, avaliações e reservar.\n",
        "Outras Aplicações Práticas Sugestões de Restaurantes: Com a integração ao Google Maps, é possível pedir recomendações de restaurantes por localização, tipo de culinária ou avaliação. Centralização de Ações: O objetivo é mostrar como a IA pode ser usada como central de produtividade, conectando e automatizando tarefas do cotidiano, desde organização pessoal até planejamento de viagens e reuniões.\n",
        "Dicas e Boas Práticas Uso do “@”: Sempre que quiser acionar um serviço específico do Google, utilize o símbolo “@” seguido do nome do app (ex: @Google Calendar, @Google Maps). Linguagem Natural: A IA entende comandos em linguagem natural, facilitando a interação para quem não tem conhecimento técnico. Exploração: Incentivo para que os alunos explorem a integração com outros apps Google e testem comandos para automatizar tarefas do dia a dia.A Aula 3 mostra, na prática, como o Google Gemini pode ser integrado ao ecossistema Google para automatizar tarefas, organizar a rotina, planejar viagens e centralizar ações cotidianas usando IA. O foco é transformar a IA em uma verdadeira assistente pessoal e profissional, otimizando tempo e aumentando a produtividade. Se quiser, posso sugerir exercícios práticos para você experimentar essas integrações no seu dia a dia! ⁂Resumo Final\n",
        "\n",
        "Arquivo: Resumo Aula 4 – Criando seu primeiro chatbot com IA generativa.pdf\n",
        "Segue o que foi discutido na aula:\n",
        "Resposta: Aqui está um resumo detalhado da Aula 4 da Imersão IA da Alura, baseada no vídeo oficial (assista aqui): Poderia fazer resumo detalhado da Aula 4 da Imersão IA da Alura, baseado no conteúdo do vídeo oficial que passei: https://www.youtube.com/ watch?v=7xco9igjUAQ&t=1s Aula 4 Criando seu primeiro chatbot com IA generativa\n",
        "\n",
        "Contexto e Motivação A aula marca o início do contato prático com programação, especialmente para quem nunca programou. Mostra que todos podem participar dos desafios e prêmios da imersão, independentemente do nível de conhecimento em programação. Traz depoimento de um ex-participante que não era desenvolvedor, mas venceu a edição anterior, incentivando todos a tentarem.\n",
        "Revisão e Preparação Recapitula conceitos de Python ensinados na masterclass intermediária (variáveis, funções, operadores, ifs). Reforça a importância de aplicar o que é aprendido, não apenas assistir às aulas.\n",
        "Google AI Studio e API Key Demonstra como obter e gerenciar a chave de API API Key) no Google AI Studio, essencial para conectar aplicações ao modelo Gemini. Mostra que é possível criar, copiar e apagar chaves conforme necessário.4. Grounding com Google Search Explica a limitação de conhecimento dos modelos de IA (data de corte do treinamento). Introduz o recurso “Grounding with Google Search”, que permite ao modelo buscar informações atualizadas na internet antes de responder, garantindo dados mais recentes e confiáveis. Exemplo prático: busca do resultado do último jogo Brasil x Argentina, mostrando a diferença entre resposta baseada apenas no modelo e resposta com grounding (incluindo fontes e links para validação).\n",
        "Introdução ao Google Colab Apresenta o Google Colab, ambiente online e gratuito para programação em Python, onde todos podem acompanhar sem precisar instalar nada no computador. Explica vantagens do Colab: acessível, centralizado, com dependências já instaladas.\n",
        "SDK e Instalação de Bibliotecas Explica o conceito de SDK Software Development Kit), que facilita a integração de aplicações com serviços como o Gemini. Ensina como instalar a SDK do Gemini no Colab usando o comando pip, facilitando o acesso à IA generativa via código.\n",
        "Projeto Prático: Criando um Chatbot O objetivo prático da aula é criar um chatbot simples, conectando o Python ao Gemini usando a API Key. O chatbot será capaz de receber perguntas do usuário e retornar respostas geradas pela IA, tudo via código Python no Colab. Mostra passo a passo: conectar ambiente, instalar SDK, configurar chave de API, enviar perguntas e receber respostas.\n",
        "Incentivo à Criatividade e Aplicação Encoraja os alunos a pensarem em soluções do cotidiano que podem ser resolvidas ou facilitadas com IA, mesmo sem serem grandes inovações. Destaca a importância de compartilhar projetos, pois o impacto pode ser significativo para outras pessoas.A Aula 4 é um divisor de águas na imersão: você aprende a conectar Python com a IA generativa do Google Gemini, cria seu primeiro chatbot e entende como buscar informações atualizadas usando grounding. O foco é desmistificar a programação, mostrar que todos podem criar soluções com IA e incentivar a aplicação prática do conhecimento. Se quiser, posso detalhar o passo a passo do código do chatbot apresentado na aula! ⁂Resumo Final\n",
        "\n",
        "Arquivo: Resumo Aula 5 – Construindo agentes que resolvem tarefas por você.pdf\n",
        "Segue o que foi discutido na aula:\n",
        "Resposta: Aqui está um resumo detalhado da Aula 5 da Imersão IA da Alura, baseada no conteúdo do vídeo oficial que você indicou: Poderia fazer resumo detalhado da Aula 5 da Imersão IA da Alura, baseado no conteúdo do vídeo oficial que passei: https://www.youtube.com/ watch?v=_CzMiNTDLMI Aula 5 Construindo agentes que resolvem tarefas por você\n",
        "\n",
        "Introdução e Contexto A aula final da imersão apresenta o conceito e a construção de agentes de IA, que são sistemas capazes de executar tarefas complexas de forma autônoma, combinando múltiplas habilidades e interagindo com diferentes ferramentas. O foco é mostrar o poder dos agentes para profissionais de diversas áreas, como marketing, finanças, advocacia, e também para desenvolvedores. É o momento de aplicar os conhecimentos adquiridos nas aulas anteriores para construir sistemas multiagentes que podem ser usados no dia a dia.\n",
        "Projeto Final e Desafio Os alunos são lembrados que o prazo para entrega do projeto final está aberto até sábado às 23h59. Após o envio, haverá votação na comunidade do Discord para escolher os melhores projetos, que serão avaliados pela banca da imersão. A live de encerramento será na segunda-feira, com anúncio dos vencedores e apresentação de uma condição especial para assinatura da Alura.\n",
        "Ferramentas e Preparação A aula utiliza o Google AI Studio e o ambiente Google Colab para desenvolvimento. Reforça-se a necessidade da API Key para conectar o código ao modelo Gemini. Ao invés de começar o código do zero, os alunos recebem um notebook Colab pré-pronto com um framework para agentes, facilitando o uso e a customização, mesmo para quem não tem muita experiência em programação.4. Framework ADK Agent Development Kit) Apresentação do ADK, kit de desenvolvimento de agentes lançado pelo Google. O ADK facilita a criação e orquestração de agentes, permitindo que múltiplos agentes trabalhem em conjunto para resolver tarefas complexas. O framework já vem com várias funcionalidades prontas, reduzindo o esforço de programação e permitindo foco na lógica do negócio.\n",
        "Conexão com Google Search e Grounding Explicação sobre a limitação do conhecimento dos modelos de IA (data de corte do treinamento). Demonstração de como integrar a busca do Google Google Search) para que o agente possa acessar informações atualizadas em tempo real - recurso chamado grounding. Exemplo prático: perguntar ao agente sobre eventos recentes, que não estão no conhecimento estático do modelo, e obter respostas com fontes e links.\n",
        "Configuração e Uso do Colab Passos para criar uma cópia do notebook no Google Drive e trabalhar na própria versão. Configuração das variáveis de ambiente para armazenar a API Key de forma segura. Instalação da biblioteca google-genai para usar o SDK do Gemini. Inicialização do cliente Gemini e definição do modelo a ser usado.\n",
        "Construção do Agente Demonstração passo a passo do código para criar um agente simples que responde a perguntas usando Gemini e Google Search. Explicação da estrutura do código, incluindo como definir as ferramentas que o agente pode usar. Uso do parâmetro config para ativar a busca do Google dentro das chamadas ao modelo. O agente pode buscar informações na internet, analisar e sintetizar respostas, tornando-se muito mais útil e atualizado.\n",
        "Personalização e Extensão O notebook pré-pronto permite que os alunos alterem o agente para casos de uso específicos, como atendimento ao cliente, assistente pessoal, análise de dados, entre outros.A Aula 5 fecha a imersão mostrando como construir agentes inteligentes usando o Google Gemini e o ADK, integrando capacidades de busca e orquestração para resolver tarefas complexas de forma autônoma. É uma aula prática, com código pronto para facilitar o aprendizado, e que prepara o aluno para aplicar IA generativa em projetos reais, ampliando sua produtividade e impacto profissional. Se quiser, posso ajudar a detalhar o código do agente ou sugerir ideias para seu projeto final! ⁂Incentivo para explorar o framework, criar múltiplos agentes e orquestrá-los para tarefas mais complexas. Encorajamento para compartilhar os projetos e continuar aprendendo.\n",
        "Encerramento e Próximos Passos A equipe reforça a importância de praticar e aplicar o que foi aprendido. Lembra que a imersão é apenas o começo e que há muitos cursos e formações na Alura para aprofundar conhecimentos em IA, ciência de dados, programação e outras áreas. Convite para a live de encerramento, onde serão anunciados os vencedores e discutidos os próximos passos no universo da inteligência artificial. Resumo Final\n",
        "\"\"\""
      ],
      "metadata": {
        "id": "MamLJ0QvBw_p"
      },
      "execution_count": null,
      "outputs": []
    },
    {
      "source": [
        "# Deveria vender esse resumo, mas o que vem de graça, vai de graça. #ObrigadoAlura\n",
        "\n",
        "display(Markdown(f\"Resposta:\\n {cola_para_os_brothers}\"))"
      ],
      "cell_type": "code",
      "metadata": {
        "colab": {
          "base_uri": "https://localhost:8080/",
          "height": 1000
        },
        "id": "nYv9svylDlOT",
        "outputId": "27951f0d-dd60-45a4-e0be-119d464e3254"
      },
      "execution_count": null,
      "outputs": [
        {
          "output_type": "display_data",
          "data": {
            "text/plain": [
              "<IPython.core.display.Markdown object>"
            ],
            "text/markdown": "Resposta:\n \nEncontrei 6 arquivos PDF na pasta '/content/drive/MyDrive/Imersão IA da Alura':\n\nArquivo: Resumo Aula 0 - MasterClass - Como a IA aprendeu a falar.pdf\nSegue o que foi discutido na aula:\nResposta: Aula 0 = https://youtu.be/_xV9Pcvkq_Y Aula 1 = https://www.youtube.com/watch?v=PzTBbxEGmYo Aula 2 = https://youtu.be/BOfY6FKbqE Aula 3 = https://www.youtube.com/watch?v=PldyIefUPOg&t=1s Aula 4 = https://www.youtube.com/watch?v=7xco9igjUAQ&t=1s Aula 5 = https://www.youtube.com/watch?v=_CzMiNTDLMI Aqui está um resumo detalhado da Aula 0 da Imersão IA da Alura, baseado no conteúdo do vídeo oficial: Olá, seguem os links dos videos da imersão IA da Alura: Aula 0 Introdução e História da Inteligência Artificial Objetivo da aula: Preparar os alunos para a imersão, apresentando a história da inteligência artificial IA) desde a origem do termo até os avanços recentes, além de introduzir uma ferramenta de estudo inovadora. Ferramenta NotebookLM do Google: Uma ferramenta que permite importar e organizar conteúdos de diversas fontes PDFs, sites, vídeos, documentos) para estudo assistido por IA. Pode gerar mapas mentais, resumos, notas e responder perguntas baseadas no material importado, facilitando o aprendizado. História da IA Primórdios (pré-1950 A ideia de máquinas pensantes tem raízes antigas, mas o marco inicial real é a invenção do computador digital na década de 1940. Em 1943, McCulloch e Pitts criaram o modelo matemático do neurônio artificial, inspirado no funcionamento do cérebro humano, usando lógica binária. Alan Turing, considerado o pai da computação, publicou em 1950 o artigo \"Computing Machinery and Intelligence\", propondo o Teste de Turing para avaliar se uma máquina pode exibir comportamento inteligente indistinguível do humano. Década de 1950Este resumo da Aula 0 traz uma visão geral da evolução da IA, preparando os alunos para entender os conceitos e tecnologias atuais. Se desejar, posso preparar resumos similares para as outras aulas 1 a 5) com base nos conteúdos disponíveis. ⁂Em 1956, na conferência de Dartmouth, John McCarthy cunhou o termo \"inteligência artificial\". Os primeiros programas de xadrez e os primeiros sistemas baseados em redes neurais foram desenvolvidos. Décadas de 1960 e 1970 Houve grande entusiasmo com sistemas especialistas e chatbots primitivos, como o ELIZA, que simulava conversas simples. Porém, as limitações técnicas e o poder computacional insuficiente levaram a dificuldades para resolver problemas complexos. Invernos da IA Nos anos 70 e final dos anos 80, ocorreram períodos chamados \"invernos da IA\", quando o interesse e o financiamento diminuíram devido a expectativas não cumpridas e limitações técnicas. Renascimento no século 21 A partir dos anos 2000, a IA renasceu com o avanço do deep learning (aprendizado profundo). Três pesquisadores são destacados como \"pais do deep learning\": Yoshua Bengio, Yann LeCun e Geoffrey Hinton, ganhadores do prêmio Turing. Fatores que impulsionaram esse renascimento: maior poder computacional Lei de Moore), disponibilidade de big data, avanços em redes neurais convolucionais (para imagens) e recorrentes (para sequências). Aplicações práticas surgiram, como assistentes virtuais Siri, Alexa, Google Assistant), sistemas de recomendação, chatbots e detecção de fraudes.\n\n\nArquivo: Resumo Aula 1 - O que uma IA de última geração pode fazer por vc.pdf\nSegue o que foi discutido na aula:\nResposta: Aqui está um resumo detalhado da Aula 1 da Imersão IA da Alura, baseado no conteúdo oficial e fontes relacionadas: Poderia fazer resumo detalhado da Aula 1 da Imersão IA da Alura, baseado no conteúdo do vídeo oficial que passei? Aula 1 O que uma IA de última geração pode fazer por você? Apresentação do Google Gemini O Google Gemini é um modelo de linguagem de última geração LLM) que combina capacidades multimodais, ou seja, pode processar e gerar texto, imagens e outros tipos de dados simultaneamente. Ele é capaz de compreender e gerar textos com qualidade semelhante à humana, traduzir idiomas, criar conteúdos criativos, analisar sentimentos, gerar códigos e muito mais. O Gemini é acessível para usuários iniciantes por meio da plataforma gemini.google.com, que oferece uma interface de chat simples e gratuita para exploração. Para desenvolvedores e cientistas de dados, o AI Studio (aistudio.google.com) permite customização, codificação e integração avançada com APIs. Potencial e Aplicações Práticas A aula destaca como o Gemini pode ser usado para transformar o dia a dia profissional, automatizando tarefas repetitivas, acelerando processos criativos e facilitando a tomada de decisões. Exemplos de uso incluem criação de chatbots, geração de textos para marketing, análise de dados financeiros, suporte jurídico, entre outros. O foco é mostrar que a IA não substitui o profissional, mas aumenta sua autonomia e produtividade, funcionando como uma poderosa ferramenta de apoio. Engenharia de Prompts Um ponto central da aula é a importância da formulação correta dos prompts (instruções dadas à IA) para obter respostas eficazes. São apresentadas técnicas como: Zero-shot: pedir à IA para realizar uma tarefa sem exemplos prévios. Few-shot: fornecer alguns exemplos para guiar a resposta.Este resumo cobre os principais pontos da Aula 1, que apresenta o Google Gemini, suas capacidades, técnicas para interagir com IA e o caminho para aplicar esses conhecimentos na prática profissional. ⁂Chain of Thought: incentivar a IA a pensar passo a passo para resolver problemas complexos. A engenharia de prompts é essencial para maximizar o potencial do Gemini e criar interações mais precisas e úteis. Desenvolvimento Prático Os participantes são introduzidos à criação de chatbots usando a API do Gemini no Google AI Studio, aprendendo a construir sistemas que interagem com usuários de forma autônoma. Além disso, a aula prepara para o desenvolvimento de sistemas multi-agentes, onde múltiplos agentes de IA trabalham juntos para executar tarefas complexas sem intervenção constante. Benefícios da Imersão A imersão é gratuita, online e sem pré-requisitos, com aulas ministradas por especialistas da Alura e do Google, incluindo Valquíria Alencar, Fabrício Carraro e Luciano Martins. Ao final, os participantes recebem certificado Alura + Google e podem concorrer a prêmios com seus projetos. A comunidade exclusiva e as mentorias ajudam a aprofundar o aprendizado e a aplicação prática. 12 https://www.alura.com.br/artigos/imersao-ia https://pt.linkedin.com/pulse/imersão-alura-ai-com-google-gemini-marco-antonio-de-oliveira-filho--tic pf\n\n\nArquivo: Resumo Aula 2 - Como conversar com a IA e fazer ela trabalhar por vc.pdf\nSegue o que foi discutido na aula:\nResposta: Claro! Aqui está um resumo detalhado da Aula 2 da Imersão IA da Alura, baseada no vídeo oficial (link para o vídeo): A aula 2 aprofunda o conceito de engenharia de prompt, mostrando como conversar de forma mais eficiente com modelos de IA (como o Google Gemini) para obter resultados melhores, mais precisos e úteis para o seu trabalho e projetos. na verdade a aula 2 da imersão foi outra: https://w ww.youtube.com/watch?v=BOfY6FKbqE&t=1s Aula 2 Como conversar com a IA e fazer ela trabalhar pra você\n\nFoco da Aula\nO que é Engenharia de Prompt? Prompt é a mensagem ou instrução que você envia para a IA. Engenharia de prompt é o processo de projetar essas instruções de forma clara, específica e detalhada, para que a IA entenda exatamente o que você deseja. A comparação feita é com um estagiário muito inteligente, mas sem experiência: quanto mais contexto e detalhes você der, melhor será a resposta.\nExemplos Práticos a) Solicitações Genéricas vs. Específicas Exemplo 1 Pedir “me fale sobre São Paulo” gera uma resposta muito ampla. Exemplo 2 Pedir “me fale sobre os três maiores clubes de futebol de São Paulo” já é mais específico e direciona melhor a resposta. Quanto mais detalhes no prompt, mais relevante será a resposta. b) Geração de Código Pedir simplesmente “crie um código para verificar se um ano é bissexto” pode resultar em uma resposta em Python, sem comentários. Se você especificar “crie um código em TypeScript, com comentários em cada linha”, a IA entrega exatamente o que você pediu, na linguagem e formato desejados.A Aula 2 ensina que a chave para tirar o máximo proveito da inteligência artificial está em como você conversa com ela. Aprender a construir prompts claros, detalhados e bem estruturados é o que transforma a IA em uma ferramenta poderosa para qualquer área profissional. Se quiser, posso sugerir exercícios práticos ou dicas para aplicar a engenharia de prompt no seu trabalho ou estudos! ⁂c) Campanha de Marketing Pedir “crie uma campanha de viagem para a Turquia” resulta em uma resposta genérica. Ao detalhar: “Trabalho para uma agência de viagens chamada Carrarurquia, crio campanhas para brasileiros entre 30 e 60 anos, interessados em história e cultura, focando em Istambul, Izmir e Capadócia”, a IA gera uma campanha muito mais alinhada ao público e objetivo.\nTécnicas de Engenharia de Prompt Seja específico: Quanto mais detalhes você fornecer, melhor. Divida tarefas complexas: Se a tarefa for grande, divida em subtarefas e peça para a IA resolver uma de cada vez. Dê contexto: Explique quem você é, qual seu objetivo, para quem é a resposta. Teste e ajuste: Não tenha medo de experimentar diferentes formas de pedir até chegar ao resultado ideal.\nPor que isso é importante? Modelos de IA são probabilísticos e podem interpretar prompts de formas diferentes. A clareza e especificidade do prompt aumentam a chance de obter respostas relevantes e aplicáveis ao seu contexto profissional. Essas técnicas ajudam a IA a se tornar uma verdadeira parceira de produtividade e criatividade.\nExercício Prático Os instrutores sugerem que você pratique criando prompts cada vez mais detalhados para tarefas do seu dia a dia, testando os resultados no Gemini. Experimente pedir para a IA gerar textos, códigos, campanhas, ou até mesmo dividir tarefas grandes em etapas menores. Resumo Final\n\nArquivo: Resumo Aula 3 – IA no seu dia a dia do Google Calendar ao Drive com Gemini.pdf\nSegue o que foi discutido na aula:\nResposta: Aqui está um resumo detalhado da Aula 3 da Imersão IA da Alura, baseada no vídeo oficial: Poderia fazer resumo detalhado da Aula 3 da Imersão IA da Alura, baseado no conteúdo do vídeo oficial que passei: https://www.youtube.com/ watch?v=PldyIefUPOg&t=1s Aula 3 IA no seu dia a dia: do Google Calendar ao Drive com Gemini\n\nIntegração do Google Gemini com o Ecossistema Google Ativação de Apps: A aula começa mostrando como ativar e conectar o Google Gemini a diversos serviços do Google Google Workspace), como Gmail, Google Drive, Google Docs, Google Calendar, Google Maps, Google Flights, Google Hotels, YouTube, entre outros. Configuração: É necessário acessar as configurações do Gemini e ativar os apps desejados, conectando com sua conta Google pessoal.\nProdutividade com IA Automatizando Tarefas Cotidianas Criação de eventos no Google Calendar: Demonstração prática de como criar um evento no Google Calendar diretamente pelo Gemini, usando linguagem natural e o comando @Google Calendar. Exemplo: Criar um lembrete para a live de encerramento da imersão, especificando data e horário. Vantagem: A integração elimina a necessidade de copiar e colar informações entre aplicativos, centralizando as ações dentro do Gemini.\nPlanejamento de Viagem Integrado com IA Roteiro de Viagem: Utilização do Gemini para criar um roteiro de 10 dias pela Turquia, começando e terminando em Istambul. Uso do Google Maps: Solicitação para que o Gemini gere trajetos detalhados entre os pontos do roteiro,integrando com o Google Maps e fornecendo links diretos para as rotas. Personalização: O usuário pode ajustar o tipo de transporte (carro, transporte público, bicicleta, etc.) e horários diretamente pelo Maps.\nPesquisa de Voos e Hotéis com IA Google Flights Voos: O Gemini busca preços de voos para todos os trechos do roteiro, inclusive voos internacionais e domésticos, utilizando o comando @Google Voos (ou Flights). Refinamento: É possível pedir voos para datas e trechos específicos, e o Gemini retorna opções ordenadas por preço, escalas, etc. Google Hotels Hotéis: O Gemini sugere hotéis em cada cidade do roteiro, mostrando preços, opções de reserva e links para o Google Hotels, onde é possível ver fotos, avaliações e reservar.\nOutras Aplicações Práticas Sugestões de Restaurantes: Com a integração ao Google Maps, é possível pedir recomendações de restaurantes por localização, tipo de culinária ou avaliação. Centralização de Ações: O objetivo é mostrar como a IA pode ser usada como central de produtividade, conectando e automatizando tarefas do cotidiano, desde organização pessoal até planejamento de viagens e reuniões.\nDicas e Boas Práticas Uso do “@”: Sempre que quiser acionar um serviço específico do Google, utilize o símbolo “@” seguido do nome do app (ex: @Google Calendar, @Google Maps). Linguagem Natural: A IA entende comandos em linguagem natural, facilitando a interação para quem não tem conhecimento técnico. Exploração: Incentivo para que os alunos explorem a integração com outros apps Google e testem comandos para automatizar tarefas do dia a dia.A Aula 3 mostra, na prática, como o Google Gemini pode ser integrado ao ecossistema Google para automatizar tarefas, organizar a rotina, planejar viagens e centralizar ações cotidianas usando IA. O foco é transformar a IA em uma verdadeira assistente pessoal e profissional, otimizando tempo e aumentando a produtividade. Se quiser, posso sugerir exercícios práticos para você experimentar essas integrações no seu dia a dia! ⁂Resumo Final\n\nArquivo: Resumo Aula 4 – Criando seu primeiro chatbot com IA generativa.pdf\nSegue o que foi discutido na aula:\nResposta: Aqui está um resumo detalhado da Aula 4 da Imersão IA da Alura, baseada no vídeo oficial (assista aqui): Poderia fazer resumo detalhado da Aula 4 da Imersão IA da Alura, baseado no conteúdo do vídeo oficial que passei: https://www.youtube.com/ watch?v=7xco9igjUAQ&t=1s Aula 4 Criando seu primeiro chatbot com IA generativa\n\nContexto e Motivação A aula marca o início do contato prático com programação, especialmente para quem nunca programou. Mostra que todos podem participar dos desafios e prêmios da imersão, independentemente do nível de conhecimento em programação. Traz depoimento de um ex-participante que não era desenvolvedor, mas venceu a edição anterior, incentivando todos a tentarem.\nRevisão e Preparação Recapitula conceitos de Python ensinados na masterclass intermediária (variáveis, funções, operadores, ifs). Reforça a importância de aplicar o que é aprendido, não apenas assistir às aulas.\nGoogle AI Studio e API Key Demonstra como obter e gerenciar a chave de API API Key) no Google AI Studio, essencial para conectar aplicações ao modelo Gemini. Mostra que é possível criar, copiar e apagar chaves conforme necessário.4. Grounding com Google Search Explica a limitação de conhecimento dos modelos de IA (data de corte do treinamento). Introduz o recurso “Grounding with Google Search”, que permite ao modelo buscar informações atualizadas na internet antes de responder, garantindo dados mais recentes e confiáveis. Exemplo prático: busca do resultado do último jogo Brasil x Argentina, mostrando a diferença entre resposta baseada apenas no modelo e resposta com grounding (incluindo fontes e links para validação).\nIntrodução ao Google Colab Apresenta o Google Colab, ambiente online e gratuito para programação em Python, onde todos podem acompanhar sem precisar instalar nada no computador. Explica vantagens do Colab: acessível, centralizado, com dependências já instaladas.\nSDK e Instalação de Bibliotecas Explica o conceito de SDK Software Development Kit), que facilita a integração de aplicações com serviços como o Gemini. Ensina como instalar a SDK do Gemini no Colab usando o comando pip, facilitando o acesso à IA generativa via código.\nProjeto Prático: Criando um Chatbot O objetivo prático da aula é criar um chatbot simples, conectando o Python ao Gemini usando a API Key. O chatbot será capaz de receber perguntas do usuário e retornar respostas geradas pela IA, tudo via código Python no Colab. Mostra passo a passo: conectar ambiente, instalar SDK, configurar chave de API, enviar perguntas e receber respostas.\nIncentivo à Criatividade e Aplicação Encoraja os alunos a pensarem em soluções do cotidiano que podem ser resolvidas ou facilitadas com IA, mesmo sem serem grandes inovações. Destaca a importância de compartilhar projetos, pois o impacto pode ser significativo para outras pessoas.A Aula 4 é um divisor de águas na imersão: você aprende a conectar Python com a IA generativa do Google Gemini, cria seu primeiro chatbot e entende como buscar informações atualizadas usando grounding. O foco é desmistificar a programação, mostrar que todos podem criar soluções com IA e incentivar a aplicação prática do conhecimento. Se quiser, posso detalhar o passo a passo do código do chatbot apresentado na aula! ⁂Resumo Final\n\nArquivo: Resumo Aula 5 – Construindo agentes que resolvem tarefas por você.pdf\nSegue o que foi discutido na aula:\nResposta: Aqui está um resumo detalhado da Aula 5 da Imersão IA da Alura, baseada no conteúdo do vídeo oficial que você indicou: Poderia fazer resumo detalhado da Aula 5 da Imersão IA da Alura, baseado no conteúdo do vídeo oficial que passei: https://www.youtube.com/ watch?v=_CzMiNTDLMI Aula 5 Construindo agentes que resolvem tarefas por você\n\nIntrodução e Contexto A aula final da imersão apresenta o conceito e a construção de agentes de IA, que são sistemas capazes de executar tarefas complexas de forma autônoma, combinando múltiplas habilidades e interagindo com diferentes ferramentas. O foco é mostrar o poder dos agentes para profissionais de diversas áreas, como marketing, finanças, advocacia, e também para desenvolvedores. É o momento de aplicar os conhecimentos adquiridos nas aulas anteriores para construir sistemas multiagentes que podem ser usados no dia a dia.\nProjeto Final e Desafio Os alunos são lembrados que o prazo para entrega do projeto final está aberto até sábado às 23h59. Após o envio, haverá votação na comunidade do Discord para escolher os melhores projetos, que serão avaliados pela banca da imersão. A live de encerramento será na segunda-feira, com anúncio dos vencedores e apresentação de uma condição especial para assinatura da Alura.\nFerramentas e Preparação A aula utiliza o Google AI Studio e o ambiente Google Colab para desenvolvimento. Reforça-se a necessidade da API Key para conectar o código ao modelo Gemini. Ao invés de começar o código do zero, os alunos recebem um notebook Colab pré-pronto com um framework para agentes, facilitando o uso e a customização, mesmo para quem não tem muita experiência em programação.4. Framework ADK Agent Development Kit) Apresentação do ADK, kit de desenvolvimento de agentes lançado pelo Google. O ADK facilita a criação e orquestração de agentes, permitindo que múltiplos agentes trabalhem em conjunto para resolver tarefas complexas. O framework já vem com várias funcionalidades prontas, reduzindo o esforço de programação e permitindo foco na lógica do negócio.\nConexão com Google Search e Grounding Explicação sobre a limitação do conhecimento dos modelos de IA (data de corte do treinamento). Demonstração de como integrar a busca do Google Google Search) para que o agente possa acessar informações atualizadas em tempo real - recurso chamado grounding. Exemplo prático: perguntar ao agente sobre eventos recentes, que não estão no conhecimento estático do modelo, e obter respostas com fontes e links.\nConfiguração e Uso do Colab Passos para criar uma cópia do notebook no Google Drive e trabalhar na própria versão. Configuração das variáveis de ambiente para armazenar a API Key de forma segura. Instalação da biblioteca google-genai para usar o SDK do Gemini. Inicialização do cliente Gemini e definição do modelo a ser usado.\nConstrução do Agente Demonstração passo a passo do código para criar um agente simples que responde a perguntas usando Gemini e Google Search. Explicação da estrutura do código, incluindo como definir as ferramentas que o agente pode usar. Uso do parâmetro config para ativar a busca do Google dentro das chamadas ao modelo. O agente pode buscar informações na internet, analisar e sintetizar respostas, tornando-se muito mais útil e atualizado.\nPersonalização e Extensão O notebook pré-pronto permite que os alunos alterem o agente para casos de uso específicos, como atendimento ao cliente, assistente pessoal, análise de dados, entre outros.A Aula 5 fecha a imersão mostrando como construir agentes inteligentes usando o Google Gemini e o ADK, integrando capacidades de busca e orquestração para resolver tarefas complexas de forma autônoma. É uma aula prática, com código pronto para facilitar o aprendizado, e que prepara o aluno para aplicar IA generativa em projetos reais, ampliando sua produtividade e impacto profissional. Se quiser, posso ajudar a detalhar o código do agente ou sugerir ideias para seu projeto final! ⁂Incentivo para explorar o framework, criar múltiplos agentes e orquestrá-los para tarefas mais complexas. Encorajamento para compartilhar os projetos e continuar aprendendo.\nEncerramento e Próximos Passos A equipe reforça a importância de praticar e aplicar o que foi aprendido. Lembra que a imersão é apenas o começo e que há muitos cursos e formações na Alura para aprofundar conhecimentos em IA, ciência de dados, programação e outras áreas. Convite para a live de encerramento, onde serão anunciados os vencedores e discutidos os próximos passos no universo da inteligência artificial. Resumo Final\n"
          },
          "metadata": {}
        }
      ]
    },
    {
      "cell_type": "markdown",
      "source": [
        "A PARTIR DE AGORA, VOU DAR AQUELA CHUPINHADA BÁSICA NO CÓDIGO DA AULA 5 PARA CRIAR MEU AGENTE, PORQUE DE BOA: NESTA VIDA NADA SE CRIA, TUDO SE COPIA (QUE O GEMINI NÃO ME ESCUTE!!! KKKK)"
      ],
      "metadata": {
        "id": "XawgQU_oFM7J"
      }
    },
    {
      "cell_type": "code",
      "source": [
        "# Função auxiliar que envia uma mensagem para um agente via Runner e retorna a resposta final\n",
        "def call_agent(agent: Agent, message_text: str) -> str:\n",
        "    # Cria um serviço de sessão em memória\n",
        "    session_service = InMemorySessionService()\n",
        "    # Cria uma nova sessão (você pode personalizar os IDs conforme necessário)\n",
        "    session = session_service.create_session(app_name=agent.name, user_id=\"user1\", session_id=\"session1\")\n",
        "    # Cria um Runner para o agente\n",
        "    runner = Runner(agent=agent, app_name=agent.name, session_service=session_service)\n",
        "    # Cria o conteúdo da mensagem de entrada\n",
        "    content = types.Content(role=\"user\", parts=[types.Part(text=message_text)])\n",
        "\n",
        "    final_response = \"\"\n",
        "    # Itera assincronamente pelos eventos retornados durante a execução do agente\n",
        "    for event in runner.run(user_id=\"user1\", session_id=\"session1\", new_message=content):\n",
        "        if event.is_final_response():\n",
        "          for part in event.content.parts:\n",
        "            if part.text is not None:\n",
        "              final_response += part.text\n",
        "              final_response += \"\\n\"\n",
        "    return final_response"
      ],
      "metadata": {
        "id": "_xP4lWhsS5ko"
      },
      "execution_count": null,
      "outputs": []
    },
    {
      "cell_type": "code",
      "source": [
        "# Função auxiliar para exibir texto formatado em Markdown no Colab\n",
        "def to_markdown(text):\n",
        "  text = text.replace('•', '  *')\n",
        "  return Markdown(textwrap.indent(text, '> ', predicate=lambda _: True))"
      ],
      "metadata": {
        "id": "8dosiodaxfFR"
      },
      "execution_count": null,
      "outputs": []
    },
    {
      "cell_type": "code",
      "source": [
        "##########################################\n",
        "# --- Agente 1: Identifica habilitades aprendidas --- #\n",
        "##########################################\n",
        "def agente_identificaHabilidades(resumoAulasImersao):\n",
        "    identificaHabilidades = Agent(\n",
        "        name=\"agente_identificaHabilidades\",\n",
        "        model=\"gemini-2.0-flash\",\n",
        "        instruction=\"\"\"\n",
        "        Você é um coach de carreiras de IA. A sua tarefa é usar a ferramenta de busca do google (google_search) para,\n",
        "        baseado no resumo das aulas que te passarei da imersão de IA da Alura de 2025,  buscar no google uma lista de\n",
        "        habilidades de inteligencia artificial mais relevantes para 2025.\n",
        "\n",
        "        Foque em no máximo 10 habilidades relevantes, com base na necessidade de mercado para 2025 para estas habilidades de IA\n",
        "        e aderencia ao que foi dado no curso, pois não adianta você destacar uma habilidade que o mercado precisa mas que não foi trabalhada na imersão.\n",
        "\n",
        "        Se a habilidade for pouco necessaria para a atualidade mas foi muito discutida nas aulas, não me retorne esta habilidade e pode ser substituído\n",
        "        por outra mais aderente às aulas dadas na imersão.\n",
        "        \"\"\",\n",
        "        description=\"Agente que identifica habilidades que o mercado precisa e que aprendemos na Imersão IA da Alura\",\n",
        "        tools={google_search}\n",
        "    )\n",
        "\n",
        "    entrada_do_agente_habilidades = f\"Resumo: {resumoAulasImersao}\"\n",
        "    # Executa o agente\n",
        "    habilidadesIdentificadas = call_agent(identificaHabilidades, entrada_do_agente_habilidades)\n",
        "    return habilidadesIdentificadas"
      ],
      "metadata": {
        "id": "o8bqIfi_DyH8"
      },
      "execution_count": null,
      "outputs": []
    },
    {
      "cell_type": "code",
      "source": [
        "######################################\n",
        "# --- Agente 2: Redator do Post --- #\n",
        "######################################\n",
        "def agente_redator(habilidades):\n",
        "    redator = Agent(\n",
        "        name=\"agente_redator\",\n",
        "        model=\"gemini-2.0-flash\",\n",
        "        instruction=\"\"\"\n",
        "            Você é um Redator Criativo especializado em criar posts virais para redes sociais.\n",
        "\n",
        "            Você escreve posts informando o que os participantes aprenderam durante a imersão IA com Google Gemini ministrado pela empresa Alura, a maior escola online de tecnologia do Brasil.\n",
        "\n",
        "            Utilize as habilidades fornecidas e os pontos mais relevantes fornecidos e, com base nisso,\n",
        "            escreva um rascunho de post para linkedin sobre o tema indicado.\n",
        "\n",
        "            O post deve ser engajador, informativo, com linguagem profissional e incluir no final as hashtags: \"Imersaoiagoogle\" e \"HumanInTheLoop\"\n",
        "            \"\"\",\n",
        "        description=\"Agente redator de posts engajadores para Instagram\"\n",
        "    )\n",
        "    entrada_do_agente_redator = f\"Plano de post: {habilidades}\"\n",
        "    # Executa o agente\n",
        "    rascunho = call_agent(redator, entrada_do_agente_redator)\n",
        "    return rascunho"
      ],
      "metadata": {
        "id": "uOqlg2TRLVh1"
      },
      "execution_count": null,
      "outputs": []
    },
    {
      "cell_type": "code",
      "source": [
        "##########################################\n",
        "# --- Agente 3: Revisor de Qualidade --- #\n",
        "##########################################\n",
        "def agente_revisor(rascunho_gerado):\n",
        "    revisor = Agent(\n",
        "        name=\"agente_revisor\",\n",
        "        model=\"gemini-2.0-flash\",\n",
        "        instruction=\"\"\"\n",
        "            Você é um Editor e Revisor de Conteúdo meticuloso, especializado em posts para redes sociais, com foco no Linkedin.\n",
        "\n",
        "            Por ter um público voltado ao mercado de trabalho e sabendo que o objetivo é que este post\n",
        "            seja visto por RHs de empresa e pelo networking/contatos do linkedin dos participantes da imersão IA com Google Gemini\n",
        "            ministrado pela empresa Alura, a maior escola online de tecnologia do Brasil, use um tom de escrita adequado com foco em ser informativo.\n",
        "\n",
        "            Revise o rascunho de post de Linkedin que vou te passar, verificando clareza, concisão, correção e tom profissional.\n",
        "\n",
        "            Revise que está seguindo aos padrões de ética, respeito, privacidade, transparência e responsabilidade da IA.\n",
        "\n",
        "            Lembre-se de revisar que a abordagem do post é informar as habilidades adquiridas, o que significa que o participante\n",
        "            ainda não é um expert, mas considere que ele foi um participante assiduo e que praticou todos os questionários,exercícios e\n",
        "            seguiu as recomendações dos instrutores da Alura durante a imersão de IA.\n",
        "\n",
        "            Não use emojis para manter o tom profissional e gere apenas 3 hashtags mais relevantes, entre elas alura e human in the loop\n",
        "\n",
        "            Inclua antes de agradecer à alura um call to action do tipo:\n",
        "\n",
        "            Estou buscando oportunidades na área de IA e gostaria de conectar com\n",
        "            profissionais e empresas que estejam liderando a inovação nesse campo.\n",
        "            Se você tiver alguma sugestão ou oportunidade, entre em contato comigo!\"\n",
        "\n",
        "            Se o rascunho estiver bom, responda apenas 'O rascunho está ótimo e pronto para publicar!'.\n",
        "            Caso haja problemas, aponte-os e sugira melhorias\n",
        "\n",
        "            Após finalizar, gere a versão final também em inglês, pois talves alguns participantes prefiram postar em inglês\n",
        "            \"\"\",\n",
        "        description=\"Agente revisor de post para redes sociais.\"\n",
        "    )\n",
        "    entrada_do_agente_revisor = f\"Rascunho: {rascunho_gerado}\"\n",
        "    # Executa o agente\n",
        "    texto_revisado = call_agent(revisor, entrada_do_agente_revisor)\n",
        "    return texto_revisado"
      ],
      "metadata": {
        "id": "_aTb1SdkLeT6"
      },
      "execution_count": null,
      "outputs": []
    },
    {
      "cell_type": "code",
      "source": [
        "##########################################\n",
        "# --- Agente 4: Identifica Aplicabilidade da IA na Área do Usuário --- #\n",
        "##########################################\n",
        "def agente_identificaAplicabilidade(area, habilidades):\n",
        "    identificaHabilidades = Agent(\n",
        "        name=\"agente_identificaAplicabilidade\",\n",
        "        model=\"gemini-2.0-flash\",\n",
        "        instruction=\"\"\"\n",
        "        Você é um arquiteto de soluções em Inteligencia Atigicial Generativa. A sua tarefa é usar a ferramenta de busca do google (google_search) para,\n",
        "        baseado em duas informações que te passarei:\n",
        "        habilidades adquiridas durante a imersão de IA da Alura com Google Gemini de 2025 e na area de atuação do usuario,\n",
        "        buscar no google uma lista de possíveis aplicações de inteligencia artificial nestas áreas.\n",
        "\n",
        "        Foque em no máximo 10 aplicabilidades mais relevantes para a atualidade, realidade de cada área de atuação\n",
        "        e maiores necessidades de mercado para 2025 nesta area, pois não adianta você destacar uma aplicabilidade que não é tendencia de mercado em 2025.\n",
        "\n",
        "        Lembre-se de utilizar padrões de ética, respeito, privacidade, transparência e responsabilidade da IA.\n",
        "\n",
        "        Se a aplicabilidade for pouco necessaria para a atualidade, pode ser substituída por outra mais necessária para a reallidade desta área de atuação\n",
        "        \"\"\",\n",
        "        description=\"Agente que identifica aplicabilidade das habilidades adquiridas, conforme área de atuação do participante da imersão\",\n",
        "        tools={google_search}\n",
        "    )\n",
        "\n",
        "    entrada_do_agente_aplicabilidades = f\"Habilidades: {habilidades}\\nÁrea de Atuação: {area}\"\n",
        "    # Executa o agente\n",
        "    aplicabilidadesIdentificadas = call_agent(identificaHabilidades, entrada_do_agente_aplicabilidades)\n",
        "    return aplicabilidadesIdentificadas"
      ],
      "metadata": {
        "id": "Zwdh5xzOky57"
      },
      "execution_count": null,
      "outputs": []
    },
    {
      "cell_type": "code",
      "source": [
        "##########################################\n",
        "# --- Agente 5: Identifica Cursos de IA da Alura na Área do Usuário --- #\n",
        "##########################################\n",
        "def agente_identificaCursosIA(area):\n",
        "    identificaCursosIA = Agent(\n",
        "        name=\"agente_identificaCursosIA\",\n",
        "        model=\"gemini-2.0-flash\",\n",
        "        instruction=\"\"\"\n",
        "        Você é um coordenador de cursos da Alura em Inteligencia Atigicial Generativa. A sua tarefa é usar a ferramenta de\n",
        "        busca do google (google_search) para, baseado na área de atuação que te informarei,\n",
        "        buscar no site da Alura por cursos de IA mais relevantes para a área de atuação do participante da imersão de IA da Alura\n",
        "        com Google Gemini de 2025.\n",
        "\n",
        "        Foque em no máximo 3 cursos, mas somente se estiverem aderentes à area de atuação do participante e se estiverem relacionados a IA.\n",
        "\n",
        "        Se a curso for pouco aderente à área de atuação, pode ser substituída por outro mais relevante à area dele\n",
        "        \"\"\",\n",
        "        description=\"Agente que identifica cursos da Alura para o participante da imersão\",\n",
        "        tools={google_search}\n",
        "    )\n",
        "\n",
        "    entrada_do_agente_identifica_cursos = f\"Área de Atuação: {area}\"\n",
        "    # Executa o agente\n",
        "    cursosIdentificados = call_agent(identificaCursosIA, entrada_do_agente_identifica_cursos)\n",
        "    return cursosIdentificados"
      ],
      "metadata": {
        "id": "mq5esVIjuPU6"
      },
      "execution_count": null,
      "outputs": []
    },
    {
      "cell_type": "code",
      "source": [
        "print(\"🚀 Iniciando o Sistema de 5 agentes que Fecha com Chave de Ouro a tua participação na Imersão IA 2025 da Alura com Google Gemini 🚀\")\n",
        "print(\"\\n Vamos te compartilhar um resumo do que foi trabalhado, te ajudar com aplicabilidade do que aprendeu na Imersão e sugerir um texto para post no Linkedin:\")\n",
        "\n",
        "# --- Obter o Área de Atuação do Usuário ---\n",
        "area_atuacao = input(\"\\n❓ Por favor, digite a tua ÁREA DE ATUAÇÃO: \")\n",
        "\n",
        "# Inserir lógica do sistema de agentes ################################################\n",
        "if not area_atuacao:\n",
        "    print(\"Você esqueceu de digitar o tópico!\")\n",
        "else:\n",
        "    print(f\"Maravilha! Vamos começar ...\")\n",
        "\n",
        "habilidades = agente_identificaHabilidades(cola_para_os_brothers)\n",
        "print(\"\\n--- 📝 Resultado do Agente 1 (Identifica Habilidades Adquiridas na Imersão) ---\\n\")\n",
        "display(Markdown(f\"Resposta:\\n {habilidades}\"))\n",
        "print(\"--------------------------------------------------------------\")\n",
        "\n",
        "rascunhoLinkedin = agente_redator(habilidades)\n",
        "print(\"\\n--- 📝 Resultado do Agente 2 (Redator de Post Linkedin) ---\\n\")\n",
        "display(Markdown(f\"Resposta:\\n {rascunhoLinkedin}\"))\n",
        "print(\"--------------------------------------------------------------\")\n",
        "\n",
        "postFinalLinkedin = agente_revisor(rascunhoLinkedin)\n",
        "print(\"\\n--- 📝 Resultado do Agente 3 (Revisor de Qualidade) ---\\n\")\n",
        "display(Markdown(f\"Resposta:\\n {postFinalLinkedin}\"))\n",
        "\n",
        "aplicabilidades = agente_identificaAplicabilidade(area_atuacao, habilidades)\n",
        "print(\"\\n--- 📝 Resultado do Agente 4 (Identifica Aplicabilidade) ---\\n\")\n",
        "display(Markdown(f\"Resposta:\\n {aplicabilidades}\"))\n",
        "print(\"--------------------------------------------------------------\")\n",
        "\n",
        "cursos = agente_identificaCursosIA(area_atuacao)\n",
        "print(\"\\n--- 📝 Indicação de Treinamentos IA Alura (Identifica Cursos) ---\\n\")\n",
        "display(Markdown(f\"Resposta:\\n {cursos}\"))\n",
        "print(\"--------------------------------------------------------------\")"
      ],
      "metadata": {
        "id": "630ummxz4myx",
        "colab": {
          "base_uri": "https://localhost:8080/",
          "height": 1000
        },
        "outputId": "c32707f4-be8e-4c70-c046-b0bca0a81ac6"
      },
      "execution_count": null,
      "outputs": [
        {
          "output_type": "stream",
          "name": "stdout",
          "text": [
            "🚀 Iniciando o Sistema de 5 agentes que Fecha com Chave de Ouro a tua participação na Imersão IA 2025 da Alura com Google Gemini 🚀\n",
            "\n",
            " Vamos te compartilhar um resumo do que foi trabalhado, te ajudar com aplicabilidade do que aprendeu na Imersão e sugerir um texto para post no Linkedin:\n",
            "\n",
            "❓ Por favor, digite a tua ÁREA DE ATUAÇÃO: Advogada\n",
            "Maravilha! Vamos começar ...\n",
            "\n",
            "--- 📝 Resultado do Agente 1 (Identifica Habilidades Adquiridas na Imersão) ---\n",
            "\n"
          ]
        },
        {
          "output_type": "display_data",
          "data": {
            "text/plain": [
              "<IPython.core.display.Markdown object>"
            ],
            "text/markdown": "Resposta:\n Com base no resumo das aulas da Imersão IA da Alura de 2025 e nas tendências do mercado de Inteligência Artificial para 2025, aqui está uma lista de habilidades relevantes, priorizando a aderência ao conteúdo do curso e a necessidade do mercado:\n\n\nCom base no seu resumo das aulas da Imersão IA da Alura de 2025 e nas tendências de mercado, aqui estão as 10 habilidades mais relevantes em IA para 2025:\n\n1.  **Engenharia de Prompt:** Essencial para interagir eficazmente com modelos de linguagem como o Gemini, otimizando a criação de conteúdo, automação de tarefas e tomada de decisões. A aula 2 enfatizou a importância de prompts claros e detalhados.\n2.  **Criação e Desenvolvimento de Chatbots:** A aula 4 ensinou a conectar Python com o Gemini para criar chatbots. Essa habilidade é fundamental para automatizar o atendimento ao cliente e outras interações.\n3.  **Construção de Agentes de IA:** A aula 5 focou na criação de agentes autônomos capazes de executar tarefas complexas combinando habilidades e ferramentas. Essencial para profissionais de diversas áreas, incluindo marketing e finanças.\n4.  **Integração de IA com Ferramentas do Google Workspace:** A aula 3 demonstrou como integrar o Gemini com serviços como Google Calendar, Drive e Gmail para automatizar tarefas cotidianas e aumentar a produtividade.\n5.  **Programação em Python:** Fundamental para conectar-se a modelos de IA como o Gemini e criar aplicações personalizadas. A aula 4 utilizou Python no Google Colab para criar um chatbot.\n6.  **Uso de SDKs e APIs de IA:** Essencial para integrar aplicações com serviços de IA. A aula 4 mostrou como instalar e usar a SDK do Gemini no Colab.\n7.  **Grounding com Google Search:** Essencial para garantir que os modelos de IA forneçam informações atualizadas e confiáveis. A aula 4 introduziu esse recurso para buscar informações na internet antes de responder.\n8.  **Desenvolvimento com ADK (Agent Development Kit):** Facilita a criação e orquestração de agentes de IA, permitindo que múltiplos agentes trabalhem juntos em tarefas complexas. A aula 5 apresentou o ADK.\n9.  **Conhecimento de Modelos de Linguagem (LLMs):** Compreender como LLMs como o Google Gemini funcionam, suas capacidades e limitações é crucial para aplicar a IA de forma eficaz.\n10. **Análise e Visualização de Dados:** Essencial para usar dados de forma eficaz e tomar decisões estratégicas.\n\nEssas habilidades combinam o conhecimento prático ensinado na Imersão IA da Alura com as necessidades do mercado de trabalho em 2025, preparando os profissionais para aproveitar as oportunidades na área de Inteligência Artificial.\n\n"
          },
          "metadata": {}
        },
        {
          "output_type": "stream",
          "name": "stdout",
          "text": [
            "--------------------------------------------------------------\n",
            "\n",
            "--- 📝 Resultado do Agente 2 (Redator de Post Linkedin) ---\n",
            "\n"
          ]
        },
        {
          "output_type": "display_data",
          "data": {
            "text/plain": [
              "<IPython.core.display.Markdown object>"
            ],
            "text/markdown": "Resposta:\n ## Rascunho de Post para LinkedIn:\n\n🚀 Imersão IA Google Gemini Alura: 10 Habilidades Essenciais para 2025! 🚀\n\nA Imersão IA Google Gemini da Alura foi uma jornada incrível e super relevante para o futuro da Inteligência Artificial! 🤯\n\nParticipei ativamente e separei as 10 habilidades cruciais que todo profissional de IA precisa dominar em 2025:\n\n1. **Engenharia de Prompt:** Domine a arte de \"conversar\" com a IA! 🗣️\n2. **Criação e Desenvolvimento de Chatbots:** Automatize interações e impulsione a experiência do cliente! 💬\n3. **Construção de Agentes de IA:** Crie agentes autônomos para revolucionar tarefas complexas! 🤖\n4. **Integração de IA com Google Workspace:** Maximize a produtividade com a IA no seu dia a dia! 📅\n5. **Programação em Python:** A base para conectar-se e personalizar soluções de IA! 🐍\n6. **Uso de SDKs e APIs de IA:** Integre aplicações e expanda as possibilidades da IA! 🔗\n7. **Grounding com Google Search:** Garanta informações precisas e atualizadas com a busca do Google! 🌐\n8. **Desenvolvimento com ADK (Agent Development Kit):** Orquestre agentes de IA para tarefas ainda mais complexas! ⚙️\n9. **Conhecimento de Modelos de Linguagem (LLMs):** Entenda o poder e as limitações dos LLMs para aplicações eficazes! 🧠\n10. **Análise e Visualização de Dados:** Transforme dados em insights estratégicos com o poder da IA! 📊\n\nA Alura realmente entregou um conteúdo transformador, nos preparando para o futuro da IA de forma prática e inovadora! ✨\n\nE você, está pronto para esta revolução? Compartilhe nos comentários qual habilidade te deixou mais animado para aplicar! 👇\n\n#Imersaoiagoogle #HumanInTheLoop\n\n"
          },
          "metadata": {}
        },
        {
          "output_type": "stream",
          "name": "stdout",
          "text": [
            "--------------------------------------------------------------\n",
            "\n",
            "--- 📝 Resultado do Agente 3 (Revisor de Qualidade) ---\n",
            "\n"
          ]
        },
        {
          "output_type": "display_data",
          "data": {
            "text/plain": [
              "<IPython.core.display.Markdown object>"
            ],
            "text/markdown": "Resposta:\n O rascunho precisa de alguns ajustes para adequação ao tom profissional do LinkedIn, remoção de emojis e refinamento do texto.\n\n**Sugestões de Melhorias:**\n\n*   **Remover Emojis:** Eliminar todos os emojis para manter a formalidade.\n*   **Revisar a Linguagem:** Ajustar frases como \"Domine a arte de 'conversar' com a IA!\" para uma linguagem mais profissional e menos coloquial.\n*   **Detalhar as Habilidades:** Em vez de apenas listar as habilidades, adicionar uma breve descrição de como a imersão ajudou a desenvolver cada uma delas.\n*   **Remover Exclamações:** Moderar o uso de exclamações para um tom mais sóbrio.\n*   **Adicionar Call to Action:** Incluir um convite para que outros profissionais entrem em contato para trocar experiências e oportunidades.\n\n**Versão Final:**\n\nParticipei da Imersão IA Google Gemini da Alura, uma experiência fundamental para entender as habilidades essenciais no futuro da Inteligência Artificial.\n\nDurante a imersão, desenvolvi um conjunto de habilidades que considero cruciais para profissionais de IA em 2025:\n\n1.  **Engenharia de Prompt:** Aprimorei a capacidade de criar prompts eficazes para interagir com modelos de IA, otimizando a comunicação e os resultados.\n2.  **Criação e Desenvolvimento de Chatbots:** Adquiri experiência na construção de chatbots para automatizar interações e melhorar a experiência do cliente.\n3.  **Construção de Agentes de IA:** Desenvolvi habilidades na criação de agentes autônomos capazes de executar tarefas complexas de forma eficiente.\n4.  **Integração de IA com Google Workspace:** Aprendi a integrar soluções de IA com as ferramentas do Google Workspace para aumentar a produtividade e otimizar fluxos de trabalho.\n5.  **Programação em Python:** Reforcei meus conhecimentos em Python, essencial para conectar e personalizar soluções de IA.\n6.  **Uso de SDKs e APIs de IA:** Obtive experiência na integração de aplicações, expandindo as possibilidades de uso da IA em diferentes contextos.\n7.  **Grounding com Google Search:** Compreendi a importância de garantir informações precisas e atualizadas através da integração com a busca do Google.\n8.  **Desenvolvimento com ADK (Agent Development Kit):** Explorei o uso do ADK para orquestrar agentes de IA em tarefas complexas, otimizando o desempenho e a colaboração.\n9.  **Conhecimento de Modelos de Linguagem (LLMs):** Aprofundei meu entendimento sobre o funcionamento e as limitações dos LLMs, permitindo aplicações mais eficazes e responsáveis.\n10. **Análise e Visualização de Dados:** Desenvolvi habilidades para transformar dados em insights estratégicos utilizando ferramentas de análise e visualização de dados com IA.\n\nEstou buscando oportunidades na área de IA e gostaria de conectar com profissionais e empresas que estejam liderando a inovação nesse campo. Se você tiver alguma sugestão ou oportunidade, entre em contato comigo!\n\nAgradeço à Alura por proporcionar um conteúdo tão relevante e transformador, preparando-me para os desafios e oportunidades do futuro da IA.\n\n\\#Alura \\#InteligenciaArtificial \\#HumanInTheLoop\n\n**Versão em Inglês:**\n\nI participated in Alura's Google Gemini AI Immersion, a fundamental experience for understanding the essential skills in the future of Artificial Intelligence.\n\nDuring the immersion, I developed a set of skills that I consider crucial for AI professionals in 2025:\n\n1.  **Prompt Engineering:** I enhanced my ability to create effective prompts to interact with AI models, optimizing communication and results.\n2.  **Chatbot Creation and Development:** I gained experience in building chatbots to automate interactions and improve customer experience.\n3.  **AI Agent Construction:** I developed skills in creating autonomous agents capable of performing complex tasks efficiently.\n4.  **AI Integration with Google Workspace:** I learned to integrate AI solutions with Google Workspace tools to increase productivity and optimize workflows.\n5.  **Python Programming:** I reinforced my knowledge in Python, essential for connecting and customizing AI solutions.\n6.  **Use of AI SDKs and APIs:** I gained experience in integrating applications, expanding the possibilities of using AI in different contexts.\n7.  **Grounding with Google Search:** I understood the importance of ensuring accurate and up-to-date information through integration with Google Search.\n8.  **Development with ADK (Agent Development Kit):** I explored the use of ADK to orchestrate AI agents in complex tasks, optimizing performance and collaboration.\n9.  **Knowledge of Language Models (LLMs):** I deepened my understanding of the functioning and limitations of LLMs, allowing for more effective and responsible applications.\n10. **Data Analysis and Visualization:** I developed skills to transform data into strategic insights using data analysis and visualization tools with AI.\n\nI am looking for opportunities in the AI field and would like to connect with professionals and companies that are leading innovation in this area. If you have any suggestions or opportunities, please contact me!\n\nI thank Alura for providing such relevant and transformative content, preparing me for the challenges and opportunities of the future of AI.\n\n\\#Alura \\#ArtificialIntelligence \\#HumanInTheLoop\n\n"
          },
          "metadata": {}
        },
        {
          "output_type": "stream",
          "name": "stdout",
          "text": [
            "\n",
            "--- 📝 Resultado do Agente 4 (Identifica Aplicabilidade) ---\n",
            "\n"
          ]
        },
        {
          "output_type": "display_data",
          "data": {
            "text/plain": [
              "<IPython.core.display.Markdown object>"
            ],
            "text/markdown": "Resposta:\n Para uma advogada em 2025, com as habilidades em IA que você adquiriu na Imersão IA da Alura, aqui estão 10 aplicações de IA mais relevantes e necessárias no mercado jurídico:\n\n\nCom base nas suas habilidades e na sua área de atuação como advogada, aqui estão 10 aplicações de IA que podem ser mais relevantes para você em 2025:\n\n1.  **Engenharia de Prompt para Pesquisa Jurídica Avançada:** Utilize a engenharia de prompt para otimizar suas pesquisas em bancos de dados jurídicos e jurisprudências. Elabore prompts claros e detalhados para encontrar informações precisas e relevantes, economizando tempo e melhorando a qualidade da sua pesquisa.\n2.  **Criação de Chatbots Jurídicos Personalizados:** Desenvolva chatbots para automatizar o atendimento inicial aos clientes, responder perguntas frequentes e fornecer informações básicas sobre seus casos. Isso pode melhorar a eficiência do seu escritório e a satisfação dos clientes, permitindo que você se concentre em tarefas mais complexas.\n3.  **Agentes de IA para Análise de Contratos:** Construa agentes de IA capazes de analisar contratos e identificar cláusulas importantes, riscos e inconsistências. Esses agentes podem ajudar a garantir a conformidade dos documentos e a proteger os interesses de seus clientes.\n4.  **Integração com Google Workspace para Gestão de Processos:** Integre o Gemini com ferramentas do Google Workspace, como Google Calendar, Drive e Gmail, para automatizar tarefas cotidianas e aumentar a produtividade na gestão de processos judiciais. Isso pode incluir a organização de prazos, o armazenamento de documentos e a comunicação com clientes e colegas.\n5.  **Automação da Elaboração de Documentos Jurídicos com Python:** Use Python para conectar-se ao Gemini e automatizar a criação de documentos jurídicos, como petições, contratos e pareceres. Isso pode reduzir o tempo gasto na elaboração de documentos e aumentar a precisão e a consistência do seu trabalho.\n6.  **Utilização de SDKs e APIs para Análise Preditiva:** Utilize SDKs e APIs de IA para integrar aplicações de análise preditiva em seus processos de tomada de decisão. Isso pode ajudar a prever o resultado de casos judiciais com base em dados históricos e a desenvolver estratégias jurídicas mais eficazes.\n7.  **Grounding com Google Search para Compliance Digital:** Use o grounding com o Google Search para garantir que seus modelos de IA forneçam informações atualizadas e confiáveis sobre legislação, regulamentação e jurisprudência. Isso é especialmente importante para garantir o compliance digital e a conformidade com as leis de proteção de dados.\n8.  **Desenvolvimento com ADK para Gestão de Riscos Jurídicos:** Use o ADK para criar e orquestrar agentes de IA que trabalhem juntos na identificação e avaliação de riscos jurídicos. Isso pode ajudar a mitigar os riscos e a proteger os interesses de seus clientes.\n9.  **Análise de Dados para Jurimetria:** Aplique técnicas de análise e visualização de dados para analisar grandes volumes de dados jurídicos e identificar padrões e tendências relevantes para a sua área de atuação. A jurimetria pode auxiliar na tomada de decisões estratégicas e na avaliação do desempenho do seu escritório.\n10. **Implementação de Contratos Inteligentes com IA e Blockchain:** Explore a implementação de contratos inteligentes com IA e blockchain para garantir a segurança e a transparência das transações jurídicas. A combinação dessas tecnologias pode eliminar intermediários, reduzir custos e acelerar as negociações.\n\nAo aplicar essas habilidades em sua área de atuação, você estará preparada para enfrentar os desafios e aproveitar as oportunidades do mercado jurídico em 2025, oferecendo serviços mais eficientes, precisos e estratégicos aos seus clientes.\n\n"
          },
          "metadata": {}
        },
        {
          "output_type": "stream",
          "name": "stdout",
          "text": [
            "--------------------------------------------------------------\n",
            "\n",
            "--- 📝 Indicação de Treinamentos IA Alura (Identifica Cursos) ---\n",
            "\n"
          ]
        },
        {
          "output_type": "display_data",
          "data": {
            "text/plain": [
              "<IPython.core.display.Markdown object>"
            ],
            "text/markdown": "Resposta:\n Para uma advogada interessada em Inteligência Artificial Generativa, posso recomendar alguns cursos da Alura que podem ser bastante relevantes. Vamos lá:\n\n\nCom certeza! Para uma advogada interessada em IA Generativa, aqui estão algumas sugestões de cursos na Alura que podem ser muito úteis:\n\n1.  **IA: Explorando o potencial da inteligência artificial generativa**: Este curso é ideal para iniciantes que desejam entender e utilizar IAs generativas no seu dia a dia. Profissionais de diversas áreas que buscam aumentar sua produtividade e eficiência através do uso de tecnologias avançadas de IA também se beneficiarão.\n2.  **ChatGPT para advogados**: Este curso ensina como incorporar o Chat GPT em avaliações de desempenho. Você aprenderá a desenvolver instruções eficazes para o chatbot; a usar IA para analisar dados e tomar decisões; e a compreender questões éticas relacionadas ao uso dessa ferramenta.\n3.  **Escola de Inteligência Artificial**: A Alura oferece uma escola completa de IA, onde você pode mergulhar com profundidade no universo da Inteligência Artificial (IA) aplicada a diferentes áreas de atuação e domine as principais ferramentas que estão moldando o agora, como ChatGPT e Midjourney.\n\nEsses cursos podem te ajudar a aplicar a IA generativa no seu dia a dia como advogada, otimizando tarefas e melhorando a análise de dados.\n"
          },
          "metadata": {}
        },
        {
          "output_type": "stream",
          "name": "stdout",
          "text": [
            "--------------------------------------------------------------\n"
          ]
        }
      ]
    }
  ]
}